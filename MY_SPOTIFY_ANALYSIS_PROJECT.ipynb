{
  "cells": [
    {
      "cell_type": "markdown",
      "id": "11b9ebf4",
      "metadata": {
        "id": "11b9ebf4"
      },
      "source": [
        "# SPOTIFY DATASET"
      ]
    },
    {
      "cell_type": "code",
      "source": [
        "from google.colab import drive\n",
        "drive.mount('/content/drive')"
      ],
      "metadata": {
        "colab": {
          "base_uri": "https://localhost:8080/"
        },
        "id": "4hHRb75Sfxp1",
        "outputId": "1b22331b-f599-409c-f546-c29e1b3c9461"
      },
      "id": "4hHRb75Sfxp1",
      "execution_count": 1,
      "outputs": [
        {
          "output_type": "stream",
          "name": "stdout",
          "text": [
            "Mounted at /content/drive\n"
          ]
        }
      ]
    },
    {
      "cell_type": "code",
      "execution_count": 2,
      "id": "2bfe8162",
      "metadata": {
        "id": "2bfe8162"
      },
      "outputs": [],
      "source": [
        "# Importing necessary libraries\n",
        "import pandas as pd\n",
        "import seaborn as sns\n",
        "import matplotlib.pyplot as plt"
      ]
    },
    {
      "cell_type": "code",
      "execution_count": 3,
      "id": "c4bdaa8f",
      "metadata": {
        "id": "c4bdaa8f"
      },
      "outputs": [],
      "source": [
        "import json"
      ]
    },
    {
      "cell_type": "code",
      "execution_count": 4,
      "id": "6d080762",
      "metadata": {
        "colab": {
          "base_uri": "https://localhost:8080/",
          "height": 1000
        },
        "id": "6d080762",
        "outputId": "4039a404-8102-413e-c798-ffb002a1dc45"
      },
      "outputs": [
        {
          "output_type": "execute_result",
          "data": {
            "text/plain": [
              "                      ts                                  platform  ms_played  \\\n",
              "0   2022-07-27T08:31:43Z  Android OS 10 API 29 (samsung, SM-A207F)     170504   \n",
              "1   2022-07-27T08:32:05Z  Android OS 10 API 29 (samsung, SM-A207F)      20668   \n",
              "2   2022-07-27T08:34:33Z  Android OS 10 API 29 (samsung, SM-A207F)     147191   \n",
              "3   2022-07-27T08:37:51Z  Android OS 10 API 29 (samsung, SM-A207F)     197067   \n",
              "4   2022-07-27T08:40:30Z  Android OS 10 API 29 (samsung, SM-A207F)     159265   \n",
              "5   2022-07-27T08:43:29Z  Android OS 10 API 29 (samsung, SM-A207F)     177702   \n",
              "6   2022-07-27T08:46:35Z  Android OS 10 API 29 (samsung, SM-A207F)     186061   \n",
              "7   2022-07-27T08:47:00Z  Android OS 10 API 29 (samsung, SM-A207F)      23057   \n",
              "8   2022-07-27T08:47:01Z  Android OS 10 API 29 (samsung, SM-A207F)        770   \n",
              "9   2022-07-27T08:50:08Z  Android OS 10 API 29 (samsung, SM-A207F)     187454   \n",
              "10  2022-07-27T08:54:05Z  Android OS 10 API 29 (samsung, SM-A207F)     176819   \n",
              "11  2022-07-27T08:57:47Z  Android OS 10 API 29 (samsung, SM-A207F)     180395   \n",
              "12  2022-07-27T09:00:51Z  Android OS 10 API 29 (samsung, SM-A207F)     183182   \n",
              "13  2022-07-27T09:03:44Z  Android OS 10 API 29 (samsung, SM-A207F)     171850   \n",
              "14  2022-07-27T09:06:51Z  Android OS 10 API 29 (samsung, SM-A207F)     186386   \n",
              "15  2022-07-27T09:10:46Z  Android OS 10 API 29 (samsung, SM-A207F)     235055   \n",
              "16  2022-07-27T09:28:52Z  Android OS 10 API 29 (samsung, SM-A207F)      17994   \n",
              "17  2022-07-27T15:48:45Z  Android OS 10 API 29 (samsung, SM-A207F)     338424   \n",
              "18  2022-07-27T15:52:29Z  Android OS 10 API 29 (samsung, SM-A207F)     223120   \n",
              "19  2022-07-27T16:00:13Z  Android OS 10 API 29 (samsung, SM-A207F)     463661   \n",
              "\n",
              "   conn_country       ip_addr                master_metadata_track_name  \\\n",
              "0            KE  41.212.54.52                     2NLuv (with Benziboy)   \n",
              "1            KE  41.212.54.52                     2NLuv (with Benziboy)   \n",
              "2            KE  41.212.54.52                                 Medallion   \n",
              "3            KE  41.212.54.52                                   Nxwhere   \n",
              "4            KE  41.212.54.52                                   Eternal   \n",
              "5            KE  41.212.54.52                            Midnight Charm   \n",
              "6            KE  41.212.54.52                                 Blameless   \n",
              "7            KE  41.212.54.52                               No Sympathy   \n",
              "8            KE  41.212.54.52                                 Blameless   \n",
              "9            KE  41.212.54.52                               No Sympathy   \n",
              "10           KE  41.212.54.52                               Baby Powder   \n",
              "11           KE  41.212.54.52                                  RÃ©sumÃ©   \n",
              "12           KE  41.212.54.52                               Mellow Eyes   \n",
              "13           KE  41.212.54.52                                  Division   \n",
              "14           KE  41.212.54.52                               Exit Wounds   \n",
              "15           KE  41.212.54.52                                   Crybaby   \n",
              "16           KE  41.212.54.52  Nxwhere (with lophiile) - lophiile Remix   \n",
              "17           KE  41.212.54.52                                     Hello   \n",
              "18           KE  41.212.54.52          Send My Love (To Your New Lover)   \n",
              "19           KE  41.212.54.52                                I Miss You   \n",
              "\n",
              "   master_metadata_album_artist_name master_metadata_album_album_name  \\\n",
              "0                          Jenevieve            2NLuv (with Benziboy)   \n",
              "1                          Jenevieve            2NLuv (with Benziboy)   \n",
              "2                          Jenevieve                         Division   \n",
              "3                          Jenevieve                         Division   \n",
              "4                          Jenevieve                         Division   \n",
              "5                          Jenevieve                         Division   \n",
              "6                          Jenevieve                         Division   \n",
              "7                          Jenevieve                         Division   \n",
              "8                          Jenevieve                         Division   \n",
              "9                          Jenevieve                         Division   \n",
              "10                         Jenevieve                         Division   \n",
              "11                         Jenevieve                         Division   \n",
              "12                         Jenevieve                         Division   \n",
              "13                         Jenevieve                         Division   \n",
              "14                         Jenevieve                         Division   \n",
              "15                         Jenevieve                         Division   \n",
              "16                         Jenevieve                         Division   \n",
              "17                             Adele                               25   \n",
              "18                             Adele                               25   \n",
              "19                             Adele                               25   \n",
              "\n",
              "                       spotify_track_uri episode_name episode_show_name  \\\n",
              "0   spotify:track:1UlkeNTAI6j9xon4RcEVT2         None              None   \n",
              "1   spotify:track:1UlkeNTAI6j9xon4RcEVT2         None              None   \n",
              "2   spotify:track:4SrzMsdRQaV5IzzHTg3s5M         None              None   \n",
              "3   spotify:track:57KsIyoebEh9PdoESmxRx0         None              None   \n",
              "4   spotify:track:34dNNN5cn8QxDub8sZbEKa         None              None   \n",
              "5   spotify:track:2aBDSH9Ix90YT0CrICIyYy         None              None   \n",
              "6   spotify:track:407njhMg78uMVPQF7UjqzL         None              None   \n",
              "7   spotify:track:0rNCPRSgQestO7fdR5jcii         None              None   \n",
              "8   spotify:track:407njhMg78uMVPQF7UjqzL         None              None   \n",
              "9   spotify:track:0rNCPRSgQestO7fdR5jcii         None              None   \n",
              "10  spotify:track:7F1lXZIzokjKPBpT3pHdy6         None              None   \n",
              "11  spotify:track:4aQcZnbiIOaUXB4b78a2D8         None              None   \n",
              "12  spotify:track:07X388xRAdJksolaVsbZHj         None              None   \n",
              "13  spotify:track:0GS3eJ311EW6n1IXGegQa2         None              None   \n",
              "14  spotify:track:52s1V70kaaX6Hp5HZrJf2D         None              None   \n",
              "15  spotify:track:4eABYMQOSVLlpUMbMQ4ZYY         None              None   \n",
              "16  spotify:track:5DS1a0fGhmEruQfritbawn         None              None   \n",
              "17  spotify:track:1Yk0cQdMLx5RzzFTYwmuld         None              None   \n",
              "18  spotify:track:563SfWAHJs4FBZMkRN0IFN         None              None   \n",
              "19  spotify:track:6NdG17SJBXKJeYS67f7E74         None              None   \n",
              "\n",
              "   spotify_episode_uri reason_start reason_end  shuffle  skipped  offline  \\\n",
              "0                 None     clickrow  trackdone    False    False    False   \n",
              "1                 None      playbtn    endplay    False    False    False   \n",
              "2                 None     clickrow  trackdone    False    False    False   \n",
              "3                 None    trackdone  trackdone    False    False    False   \n",
              "4                 None    trackdone  trackdone    False    False    False   \n",
              "5                 None    trackdone  trackdone    False    False    False   \n",
              "6                 None    trackdone  trackdone    False    False    False   \n",
              "7                 None    trackdone    backbtn    False    False    False   \n",
              "8                 None      backbtn     fwdbtn    False    False    False   \n",
              "9                 None       fwdbtn  trackdone    False    False    False   \n",
              "10                None    trackdone  trackdone    False    False    False   \n",
              "11                None    trackdone  trackdone    False    False    False   \n",
              "12                None    trackdone  trackdone    False    False    False   \n",
              "13                None    trackdone  trackdone    False    False    False   \n",
              "14                None    trackdone  trackdone    False    False    False   \n",
              "15                None    trackdone  trackdone    False    False    False   \n",
              "16                None    trackdone     logout    False    False    False   \n",
              "17                None     clickrow  trackdone    False    False    False   \n",
              "18                None    trackdone  trackdone    False    False    False   \n",
              "19                None    trackdone  trackdone    False    False    False   \n",
              "\n",
              "    offline_timestamp  incognito_mode  \n",
              "0                 NaN           False  \n",
              "1                 NaN           False  \n",
              "2                 NaN           False  \n",
              "3                 NaN           False  \n",
              "4                 NaN           False  \n",
              "5                 NaN           False  \n",
              "6                 NaN           False  \n",
              "7                 NaN           False  \n",
              "8                 NaN           False  \n",
              "9                 NaN           False  \n",
              "10                NaN           False  \n",
              "11                NaN           False  \n",
              "12                NaN           False  \n",
              "13                NaN           False  \n",
              "14                NaN           False  \n",
              "15                NaN           False  \n",
              "16                NaN           False  \n",
              "17                NaN           False  \n",
              "18                NaN           False  \n",
              "19                NaN           False  "
            ],
            "text/html": [
              "\n",
              "  <div id=\"df-32373925-e093-4d49-ba0c-bca30fb83af3\" class=\"colab-df-container\">\n",
              "    <div>\n",
              "<style scoped>\n",
              "    .dataframe tbody tr th:only-of-type {\n",
              "        vertical-align: middle;\n",
              "    }\n",
              "\n",
              "    .dataframe tbody tr th {\n",
              "        vertical-align: top;\n",
              "    }\n",
              "\n",
              "    .dataframe thead th {\n",
              "        text-align: right;\n",
              "    }\n",
              "</style>\n",
              "<table border=\"1\" class=\"dataframe\">\n",
              "  <thead>\n",
              "    <tr style=\"text-align: right;\">\n",
              "      <th></th>\n",
              "      <th>ts</th>\n",
              "      <th>platform</th>\n",
              "      <th>ms_played</th>\n",
              "      <th>conn_country</th>\n",
              "      <th>ip_addr</th>\n",
              "      <th>master_metadata_track_name</th>\n",
              "      <th>master_metadata_album_artist_name</th>\n",
              "      <th>master_metadata_album_album_name</th>\n",
              "      <th>spotify_track_uri</th>\n",
              "      <th>episode_name</th>\n",
              "      <th>episode_show_name</th>\n",
              "      <th>spotify_episode_uri</th>\n",
              "      <th>reason_start</th>\n",
              "      <th>reason_end</th>\n",
              "      <th>shuffle</th>\n",
              "      <th>skipped</th>\n",
              "      <th>offline</th>\n",
              "      <th>offline_timestamp</th>\n",
              "      <th>incognito_mode</th>\n",
              "    </tr>\n",
              "  </thead>\n",
              "  <tbody>\n",
              "    <tr>\n",
              "      <th>0</th>\n",
              "      <td>2022-07-27T08:31:43Z</td>\n",
              "      <td>Android OS 10 API 29 (samsung, SM-A207F)</td>\n",
              "      <td>170504</td>\n",
              "      <td>KE</td>\n",
              "      <td>41.212.54.52</td>\n",
              "      <td>2NLuv (with Benziboy)</td>\n",
              "      <td>Jenevieve</td>\n",
              "      <td>2NLuv (with Benziboy)</td>\n",
              "      <td>spotify:track:1UlkeNTAI6j9xon4RcEVT2</td>\n",
              "      <td>None</td>\n",
              "      <td>None</td>\n",
              "      <td>None</td>\n",
              "      <td>clickrow</td>\n",
              "      <td>trackdone</td>\n",
              "      <td>False</td>\n",
              "      <td>False</td>\n",
              "      <td>False</td>\n",
              "      <td>NaN</td>\n",
              "      <td>False</td>\n",
              "    </tr>\n",
              "    <tr>\n",
              "      <th>1</th>\n",
              "      <td>2022-07-27T08:32:05Z</td>\n",
              "      <td>Android OS 10 API 29 (samsung, SM-A207F)</td>\n",
              "      <td>20668</td>\n",
              "      <td>KE</td>\n",
              "      <td>41.212.54.52</td>\n",
              "      <td>2NLuv (with Benziboy)</td>\n",
              "      <td>Jenevieve</td>\n",
              "      <td>2NLuv (with Benziboy)</td>\n",
              "      <td>spotify:track:1UlkeNTAI6j9xon4RcEVT2</td>\n",
              "      <td>None</td>\n",
              "      <td>None</td>\n",
              "      <td>None</td>\n",
              "      <td>playbtn</td>\n",
              "      <td>endplay</td>\n",
              "      <td>False</td>\n",
              "      <td>False</td>\n",
              "      <td>False</td>\n",
              "      <td>NaN</td>\n",
              "      <td>False</td>\n",
              "    </tr>\n",
              "    <tr>\n",
              "      <th>2</th>\n",
              "      <td>2022-07-27T08:34:33Z</td>\n",
              "      <td>Android OS 10 API 29 (samsung, SM-A207F)</td>\n",
              "      <td>147191</td>\n",
              "      <td>KE</td>\n",
              "      <td>41.212.54.52</td>\n",
              "      <td>Medallion</td>\n",
              "      <td>Jenevieve</td>\n",
              "      <td>Division</td>\n",
              "      <td>spotify:track:4SrzMsdRQaV5IzzHTg3s5M</td>\n",
              "      <td>None</td>\n",
              "      <td>None</td>\n",
              "      <td>None</td>\n",
              "      <td>clickrow</td>\n",
              "      <td>trackdone</td>\n",
              "      <td>False</td>\n",
              "      <td>False</td>\n",
              "      <td>False</td>\n",
              "      <td>NaN</td>\n",
              "      <td>False</td>\n",
              "    </tr>\n",
              "    <tr>\n",
              "      <th>3</th>\n",
              "      <td>2022-07-27T08:37:51Z</td>\n",
              "      <td>Android OS 10 API 29 (samsung, SM-A207F)</td>\n",
              "      <td>197067</td>\n",
              "      <td>KE</td>\n",
              "      <td>41.212.54.52</td>\n",
              "      <td>Nxwhere</td>\n",
              "      <td>Jenevieve</td>\n",
              "      <td>Division</td>\n",
              "      <td>spotify:track:57KsIyoebEh9PdoESmxRx0</td>\n",
              "      <td>None</td>\n",
              "      <td>None</td>\n",
              "      <td>None</td>\n",
              "      <td>trackdone</td>\n",
              "      <td>trackdone</td>\n",
              "      <td>False</td>\n",
              "      <td>False</td>\n",
              "      <td>False</td>\n",
              "      <td>NaN</td>\n",
              "      <td>False</td>\n",
              "    </tr>\n",
              "    <tr>\n",
              "      <th>4</th>\n",
              "      <td>2022-07-27T08:40:30Z</td>\n",
              "      <td>Android OS 10 API 29 (samsung, SM-A207F)</td>\n",
              "      <td>159265</td>\n",
              "      <td>KE</td>\n",
              "      <td>41.212.54.52</td>\n",
              "      <td>Eternal</td>\n",
              "      <td>Jenevieve</td>\n",
              "      <td>Division</td>\n",
              "      <td>spotify:track:34dNNN5cn8QxDub8sZbEKa</td>\n",
              "      <td>None</td>\n",
              "      <td>None</td>\n",
              "      <td>None</td>\n",
              "      <td>trackdone</td>\n",
              "      <td>trackdone</td>\n",
              "      <td>False</td>\n",
              "      <td>False</td>\n",
              "      <td>False</td>\n",
              "      <td>NaN</td>\n",
              "      <td>False</td>\n",
              "    </tr>\n",
              "    <tr>\n",
              "      <th>5</th>\n",
              "      <td>2022-07-27T08:43:29Z</td>\n",
              "      <td>Android OS 10 API 29 (samsung, SM-A207F)</td>\n",
              "      <td>177702</td>\n",
              "      <td>KE</td>\n",
              "      <td>41.212.54.52</td>\n",
              "      <td>Midnight Charm</td>\n",
              "      <td>Jenevieve</td>\n",
              "      <td>Division</td>\n",
              "      <td>spotify:track:2aBDSH9Ix90YT0CrICIyYy</td>\n",
              "      <td>None</td>\n",
              "      <td>None</td>\n",
              "      <td>None</td>\n",
              "      <td>trackdone</td>\n",
              "      <td>trackdone</td>\n",
              "      <td>False</td>\n",
              "      <td>False</td>\n",
              "      <td>False</td>\n",
              "      <td>NaN</td>\n",
              "      <td>False</td>\n",
              "    </tr>\n",
              "    <tr>\n",
              "      <th>6</th>\n",
              "      <td>2022-07-27T08:46:35Z</td>\n",
              "      <td>Android OS 10 API 29 (samsung, SM-A207F)</td>\n",
              "      <td>186061</td>\n",
              "      <td>KE</td>\n",
              "      <td>41.212.54.52</td>\n",
              "      <td>Blameless</td>\n",
              "      <td>Jenevieve</td>\n",
              "      <td>Division</td>\n",
              "      <td>spotify:track:407njhMg78uMVPQF7UjqzL</td>\n",
              "      <td>None</td>\n",
              "      <td>None</td>\n",
              "      <td>None</td>\n",
              "      <td>trackdone</td>\n",
              "      <td>trackdone</td>\n",
              "      <td>False</td>\n",
              "      <td>False</td>\n",
              "      <td>False</td>\n",
              "      <td>NaN</td>\n",
              "      <td>False</td>\n",
              "    </tr>\n",
              "    <tr>\n",
              "      <th>7</th>\n",
              "      <td>2022-07-27T08:47:00Z</td>\n",
              "      <td>Android OS 10 API 29 (samsung, SM-A207F)</td>\n",
              "      <td>23057</td>\n",
              "      <td>KE</td>\n",
              "      <td>41.212.54.52</td>\n",
              "      <td>No Sympathy</td>\n",
              "      <td>Jenevieve</td>\n",
              "      <td>Division</td>\n",
              "      <td>spotify:track:0rNCPRSgQestO7fdR5jcii</td>\n",
              "      <td>None</td>\n",
              "      <td>None</td>\n",
              "      <td>None</td>\n",
              "      <td>trackdone</td>\n",
              "      <td>backbtn</td>\n",
              "      <td>False</td>\n",
              "      <td>False</td>\n",
              "      <td>False</td>\n",
              "      <td>NaN</td>\n",
              "      <td>False</td>\n",
              "    </tr>\n",
              "    <tr>\n",
              "      <th>8</th>\n",
              "      <td>2022-07-27T08:47:01Z</td>\n",
              "      <td>Android OS 10 API 29 (samsung, SM-A207F)</td>\n",
              "      <td>770</td>\n",
              "      <td>KE</td>\n",
              "      <td>41.212.54.52</td>\n",
              "      <td>Blameless</td>\n",
              "      <td>Jenevieve</td>\n",
              "      <td>Division</td>\n",
              "      <td>spotify:track:407njhMg78uMVPQF7UjqzL</td>\n",
              "      <td>None</td>\n",
              "      <td>None</td>\n",
              "      <td>None</td>\n",
              "      <td>backbtn</td>\n",
              "      <td>fwdbtn</td>\n",
              "      <td>False</td>\n",
              "      <td>False</td>\n",
              "      <td>False</td>\n",
              "      <td>NaN</td>\n",
              "      <td>False</td>\n",
              "    </tr>\n",
              "    <tr>\n",
              "      <th>9</th>\n",
              "      <td>2022-07-27T08:50:08Z</td>\n",
              "      <td>Android OS 10 API 29 (samsung, SM-A207F)</td>\n",
              "      <td>187454</td>\n",
              "      <td>KE</td>\n",
              "      <td>41.212.54.52</td>\n",
              "      <td>No Sympathy</td>\n",
              "      <td>Jenevieve</td>\n",
              "      <td>Division</td>\n",
              "      <td>spotify:track:0rNCPRSgQestO7fdR5jcii</td>\n",
              "      <td>None</td>\n",
              "      <td>None</td>\n",
              "      <td>None</td>\n",
              "      <td>fwdbtn</td>\n",
              "      <td>trackdone</td>\n",
              "      <td>False</td>\n",
              "      <td>False</td>\n",
              "      <td>False</td>\n",
              "      <td>NaN</td>\n",
              "      <td>False</td>\n",
              "    </tr>\n",
              "    <tr>\n",
              "      <th>10</th>\n",
              "      <td>2022-07-27T08:54:05Z</td>\n",
              "      <td>Android OS 10 API 29 (samsung, SM-A207F)</td>\n",
              "      <td>176819</td>\n",
              "      <td>KE</td>\n",
              "      <td>41.212.54.52</td>\n",
              "      <td>Baby Powder</td>\n",
              "      <td>Jenevieve</td>\n",
              "      <td>Division</td>\n",
              "      <td>spotify:track:7F1lXZIzokjKPBpT3pHdy6</td>\n",
              "      <td>None</td>\n",
              "      <td>None</td>\n",
              "      <td>None</td>\n",
              "      <td>trackdone</td>\n",
              "      <td>trackdone</td>\n",
              "      <td>False</td>\n",
              "      <td>False</td>\n",
              "      <td>False</td>\n",
              "      <td>NaN</td>\n",
              "      <td>False</td>\n",
              "    </tr>\n",
              "    <tr>\n",
              "      <th>11</th>\n",
              "      <td>2022-07-27T08:57:47Z</td>\n",
              "      <td>Android OS 10 API 29 (samsung, SM-A207F)</td>\n",
              "      <td>180395</td>\n",
              "      <td>KE</td>\n",
              "      <td>41.212.54.52</td>\n",
              "      <td>RÃ©sumÃ©</td>\n",
              "      <td>Jenevieve</td>\n",
              "      <td>Division</td>\n",
              "      <td>spotify:track:4aQcZnbiIOaUXB4b78a2D8</td>\n",
              "      <td>None</td>\n",
              "      <td>None</td>\n",
              "      <td>None</td>\n",
              "      <td>trackdone</td>\n",
              "      <td>trackdone</td>\n",
              "      <td>False</td>\n",
              "      <td>False</td>\n",
              "      <td>False</td>\n",
              "      <td>NaN</td>\n",
              "      <td>False</td>\n",
              "    </tr>\n",
              "    <tr>\n",
              "      <th>12</th>\n",
              "      <td>2022-07-27T09:00:51Z</td>\n",
              "      <td>Android OS 10 API 29 (samsung, SM-A207F)</td>\n",
              "      <td>183182</td>\n",
              "      <td>KE</td>\n",
              "      <td>41.212.54.52</td>\n",
              "      <td>Mellow Eyes</td>\n",
              "      <td>Jenevieve</td>\n",
              "      <td>Division</td>\n",
              "      <td>spotify:track:07X388xRAdJksolaVsbZHj</td>\n",
              "      <td>None</td>\n",
              "      <td>None</td>\n",
              "      <td>None</td>\n",
              "      <td>trackdone</td>\n",
              "      <td>trackdone</td>\n",
              "      <td>False</td>\n",
              "      <td>False</td>\n",
              "      <td>False</td>\n",
              "      <td>NaN</td>\n",
              "      <td>False</td>\n",
              "    </tr>\n",
              "    <tr>\n",
              "      <th>13</th>\n",
              "      <td>2022-07-27T09:03:44Z</td>\n",
              "      <td>Android OS 10 API 29 (samsung, SM-A207F)</td>\n",
              "      <td>171850</td>\n",
              "      <td>KE</td>\n",
              "      <td>41.212.54.52</td>\n",
              "      <td>Division</td>\n",
              "      <td>Jenevieve</td>\n",
              "      <td>Division</td>\n",
              "      <td>spotify:track:0GS3eJ311EW6n1IXGegQa2</td>\n",
              "      <td>None</td>\n",
              "      <td>None</td>\n",
              "      <td>None</td>\n",
              "      <td>trackdone</td>\n",
              "      <td>trackdone</td>\n",
              "      <td>False</td>\n",
              "      <td>False</td>\n",
              "      <td>False</td>\n",
              "      <td>NaN</td>\n",
              "      <td>False</td>\n",
              "    </tr>\n",
              "    <tr>\n",
              "      <th>14</th>\n",
              "      <td>2022-07-27T09:06:51Z</td>\n",
              "      <td>Android OS 10 API 29 (samsung, SM-A207F)</td>\n",
              "      <td>186386</td>\n",
              "      <td>KE</td>\n",
              "      <td>41.212.54.52</td>\n",
              "      <td>Exit Wounds</td>\n",
              "      <td>Jenevieve</td>\n",
              "      <td>Division</td>\n",
              "      <td>spotify:track:52s1V70kaaX6Hp5HZrJf2D</td>\n",
              "      <td>None</td>\n",
              "      <td>None</td>\n",
              "      <td>None</td>\n",
              "      <td>trackdone</td>\n",
              "      <td>trackdone</td>\n",
              "      <td>False</td>\n",
              "      <td>False</td>\n",
              "      <td>False</td>\n",
              "      <td>NaN</td>\n",
              "      <td>False</td>\n",
              "    </tr>\n",
              "    <tr>\n",
              "      <th>15</th>\n",
              "      <td>2022-07-27T09:10:46Z</td>\n",
              "      <td>Android OS 10 API 29 (samsung, SM-A207F)</td>\n",
              "      <td>235055</td>\n",
              "      <td>KE</td>\n",
              "      <td>41.212.54.52</td>\n",
              "      <td>Crybaby</td>\n",
              "      <td>Jenevieve</td>\n",
              "      <td>Division</td>\n",
              "      <td>spotify:track:4eABYMQOSVLlpUMbMQ4ZYY</td>\n",
              "      <td>None</td>\n",
              "      <td>None</td>\n",
              "      <td>None</td>\n",
              "      <td>trackdone</td>\n",
              "      <td>trackdone</td>\n",
              "      <td>False</td>\n",
              "      <td>False</td>\n",
              "      <td>False</td>\n",
              "      <td>NaN</td>\n",
              "      <td>False</td>\n",
              "    </tr>\n",
              "    <tr>\n",
              "      <th>16</th>\n",
              "      <td>2022-07-27T09:28:52Z</td>\n",
              "      <td>Android OS 10 API 29 (samsung, SM-A207F)</td>\n",
              "      <td>17994</td>\n",
              "      <td>KE</td>\n",
              "      <td>41.212.54.52</td>\n",
              "      <td>Nxwhere (with lophiile) - lophiile Remix</td>\n",
              "      <td>Jenevieve</td>\n",
              "      <td>Division</td>\n",
              "      <td>spotify:track:5DS1a0fGhmEruQfritbawn</td>\n",
              "      <td>None</td>\n",
              "      <td>None</td>\n",
              "      <td>None</td>\n",
              "      <td>trackdone</td>\n",
              "      <td>logout</td>\n",
              "      <td>False</td>\n",
              "      <td>False</td>\n",
              "      <td>False</td>\n",
              "      <td>NaN</td>\n",
              "      <td>False</td>\n",
              "    </tr>\n",
              "    <tr>\n",
              "      <th>17</th>\n",
              "      <td>2022-07-27T15:48:45Z</td>\n",
              "      <td>Android OS 10 API 29 (samsung, SM-A207F)</td>\n",
              "      <td>338424</td>\n",
              "      <td>KE</td>\n",
              "      <td>41.212.54.52</td>\n",
              "      <td>Hello</td>\n",
              "      <td>Adele</td>\n",
              "      <td>25</td>\n",
              "      <td>spotify:track:1Yk0cQdMLx5RzzFTYwmuld</td>\n",
              "      <td>None</td>\n",
              "      <td>None</td>\n",
              "      <td>None</td>\n",
              "      <td>clickrow</td>\n",
              "      <td>trackdone</td>\n",
              "      <td>False</td>\n",
              "      <td>False</td>\n",
              "      <td>False</td>\n",
              "      <td>NaN</td>\n",
              "      <td>False</td>\n",
              "    </tr>\n",
              "    <tr>\n",
              "      <th>18</th>\n",
              "      <td>2022-07-27T15:52:29Z</td>\n",
              "      <td>Android OS 10 API 29 (samsung, SM-A207F)</td>\n",
              "      <td>223120</td>\n",
              "      <td>KE</td>\n",
              "      <td>41.212.54.52</td>\n",
              "      <td>Send My Love (To Your New Lover)</td>\n",
              "      <td>Adele</td>\n",
              "      <td>25</td>\n",
              "      <td>spotify:track:563SfWAHJs4FBZMkRN0IFN</td>\n",
              "      <td>None</td>\n",
              "      <td>None</td>\n",
              "      <td>None</td>\n",
              "      <td>trackdone</td>\n",
              "      <td>trackdone</td>\n",
              "      <td>False</td>\n",
              "      <td>False</td>\n",
              "      <td>False</td>\n",
              "      <td>NaN</td>\n",
              "      <td>False</td>\n",
              "    </tr>\n",
              "    <tr>\n",
              "      <th>19</th>\n",
              "      <td>2022-07-27T16:00:13Z</td>\n",
              "      <td>Android OS 10 API 29 (samsung, SM-A207F)</td>\n",
              "      <td>463661</td>\n",
              "      <td>KE</td>\n",
              "      <td>41.212.54.52</td>\n",
              "      <td>I Miss You</td>\n",
              "      <td>Adele</td>\n",
              "      <td>25</td>\n",
              "      <td>spotify:track:6NdG17SJBXKJeYS67f7E74</td>\n",
              "      <td>None</td>\n",
              "      <td>None</td>\n",
              "      <td>None</td>\n",
              "      <td>trackdone</td>\n",
              "      <td>trackdone</td>\n",
              "      <td>False</td>\n",
              "      <td>False</td>\n",
              "      <td>False</td>\n",
              "      <td>NaN</td>\n",
              "      <td>False</td>\n",
              "    </tr>\n",
              "  </tbody>\n",
              "</table>\n",
              "</div>\n",
              "    <div class=\"colab-df-buttons\">\n",
              "\n",
              "  <div class=\"colab-df-container\">\n",
              "    <button class=\"colab-df-convert\" onclick=\"convertToInteractive('df-32373925-e093-4d49-ba0c-bca30fb83af3')\"\n",
              "            title=\"Convert this dataframe to an interactive table.\"\n",
              "            style=\"display:none;\">\n",
              "\n",
              "  <svg xmlns=\"http://www.w3.org/2000/svg\" height=\"24px\" viewBox=\"0 -960 960 960\">\n",
              "    <path d=\"M120-120v-720h720v720H120Zm60-500h600v-160H180v160Zm220 220h160v-160H400v160Zm0 220h160v-160H400v160ZM180-400h160v-160H180v160Zm440 0h160v-160H620v160ZM180-180h160v-160H180v160Zm440 0h160v-160H620v160Z\"/>\n",
              "  </svg>\n",
              "    </button>\n",
              "\n",
              "  <style>\n",
              "    .colab-df-container {\n",
              "      display:flex;\n",
              "      gap: 12px;\n",
              "    }\n",
              "\n",
              "    .colab-df-convert {\n",
              "      background-color: #E8F0FE;\n",
              "      border: none;\n",
              "      border-radius: 50%;\n",
              "      cursor: pointer;\n",
              "      display: none;\n",
              "      fill: #1967D2;\n",
              "      height: 32px;\n",
              "      padding: 0 0 0 0;\n",
              "      width: 32px;\n",
              "    }\n",
              "\n",
              "    .colab-df-convert:hover {\n",
              "      background-color: #E2EBFA;\n",
              "      box-shadow: 0px 1px 2px rgba(60, 64, 67, 0.3), 0px 1px 3px 1px rgba(60, 64, 67, 0.15);\n",
              "      fill: #174EA6;\n",
              "    }\n",
              "\n",
              "    .colab-df-buttons div {\n",
              "      margin-bottom: 4px;\n",
              "    }\n",
              "\n",
              "    [theme=dark] .colab-df-convert {\n",
              "      background-color: #3B4455;\n",
              "      fill: #D2E3FC;\n",
              "    }\n",
              "\n",
              "    [theme=dark] .colab-df-convert:hover {\n",
              "      background-color: #434B5C;\n",
              "      box-shadow: 0px 1px 3px 1px rgba(0, 0, 0, 0.15);\n",
              "      filter: drop-shadow(0px 1px 2px rgba(0, 0, 0, 0.3));\n",
              "      fill: #FFFFFF;\n",
              "    }\n",
              "  </style>\n",
              "\n",
              "    <script>\n",
              "      const buttonEl =\n",
              "        document.querySelector('#df-32373925-e093-4d49-ba0c-bca30fb83af3 button.colab-df-convert');\n",
              "      buttonEl.style.display =\n",
              "        google.colab.kernel.accessAllowed ? 'block' : 'none';\n",
              "\n",
              "      async function convertToInteractive(key) {\n",
              "        const element = document.querySelector('#df-32373925-e093-4d49-ba0c-bca30fb83af3');\n",
              "        const dataTable =\n",
              "          await google.colab.kernel.invokeFunction('convertToInteractive',\n",
              "                                                    [key], {});\n",
              "        if (!dataTable) return;\n",
              "\n",
              "        const docLinkHtml = 'Like what you see? Visit the ' +\n",
              "          '<a target=\"_blank\" href=https://colab.research.google.com/notebooks/data_table.ipynb>data table notebook</a>'\n",
              "          + ' to learn more about interactive tables.';\n",
              "        element.innerHTML = '';\n",
              "        dataTable['output_type'] = 'display_data';\n",
              "        await google.colab.output.renderOutput(dataTable, element);\n",
              "        const docLink = document.createElement('div');\n",
              "        docLink.innerHTML = docLinkHtml;\n",
              "        element.appendChild(docLink);\n",
              "      }\n",
              "    </script>\n",
              "  </div>\n",
              "\n",
              "\n",
              "    <div id=\"df-f45aebf2-9e09-4f50-895c-a25ac3749283\">\n",
              "      <button class=\"colab-df-quickchart\" onclick=\"quickchart('df-f45aebf2-9e09-4f50-895c-a25ac3749283')\"\n",
              "                title=\"Suggest charts\"\n",
              "                style=\"display:none;\">\n",
              "\n",
              "<svg xmlns=\"http://www.w3.org/2000/svg\" height=\"24px\"viewBox=\"0 0 24 24\"\n",
              "     width=\"24px\">\n",
              "    <g>\n",
              "        <path d=\"M19 3H5c-1.1 0-2 .9-2 2v14c0 1.1.9 2 2 2h14c1.1 0 2-.9 2-2V5c0-1.1-.9-2-2-2zM9 17H7v-7h2v7zm4 0h-2V7h2v10zm4 0h-2v-4h2v4z\"/>\n",
              "    </g>\n",
              "</svg>\n",
              "      </button>\n",
              "\n",
              "<style>\n",
              "  .colab-df-quickchart {\n",
              "      --bg-color: #E8F0FE;\n",
              "      --fill-color: #1967D2;\n",
              "      --hover-bg-color: #E2EBFA;\n",
              "      --hover-fill-color: #174EA6;\n",
              "      --disabled-fill-color: #AAA;\n",
              "      --disabled-bg-color: #DDD;\n",
              "  }\n",
              "\n",
              "  [theme=dark] .colab-df-quickchart {\n",
              "      --bg-color: #3B4455;\n",
              "      --fill-color: #D2E3FC;\n",
              "      --hover-bg-color: #434B5C;\n",
              "      --hover-fill-color: #FFFFFF;\n",
              "      --disabled-bg-color: #3B4455;\n",
              "      --disabled-fill-color: #666;\n",
              "  }\n",
              "\n",
              "  .colab-df-quickchart {\n",
              "    background-color: var(--bg-color);\n",
              "    border: none;\n",
              "    border-radius: 50%;\n",
              "    cursor: pointer;\n",
              "    display: none;\n",
              "    fill: var(--fill-color);\n",
              "    height: 32px;\n",
              "    padding: 0;\n",
              "    width: 32px;\n",
              "  }\n",
              "\n",
              "  .colab-df-quickchart:hover {\n",
              "    background-color: var(--hover-bg-color);\n",
              "    box-shadow: 0 1px 2px rgba(60, 64, 67, 0.3), 0 1px 3px 1px rgba(60, 64, 67, 0.15);\n",
              "    fill: var(--button-hover-fill-color);\n",
              "  }\n",
              "\n",
              "  .colab-df-quickchart-complete:disabled,\n",
              "  .colab-df-quickchart-complete:disabled:hover {\n",
              "    background-color: var(--disabled-bg-color);\n",
              "    fill: var(--disabled-fill-color);\n",
              "    box-shadow: none;\n",
              "  }\n",
              "\n",
              "  .colab-df-spinner {\n",
              "    border: 2px solid var(--fill-color);\n",
              "    border-color: transparent;\n",
              "    border-bottom-color: var(--fill-color);\n",
              "    animation:\n",
              "      spin 1s steps(1) infinite;\n",
              "  }\n",
              "\n",
              "  @keyframes spin {\n",
              "    0% {\n",
              "      border-color: transparent;\n",
              "      border-bottom-color: var(--fill-color);\n",
              "      border-left-color: var(--fill-color);\n",
              "    }\n",
              "    20% {\n",
              "      border-color: transparent;\n",
              "      border-left-color: var(--fill-color);\n",
              "      border-top-color: var(--fill-color);\n",
              "    }\n",
              "    30% {\n",
              "      border-color: transparent;\n",
              "      border-left-color: var(--fill-color);\n",
              "      border-top-color: var(--fill-color);\n",
              "      border-right-color: var(--fill-color);\n",
              "    }\n",
              "    40% {\n",
              "      border-color: transparent;\n",
              "      border-right-color: var(--fill-color);\n",
              "      border-top-color: var(--fill-color);\n",
              "    }\n",
              "    60% {\n",
              "      border-color: transparent;\n",
              "      border-right-color: var(--fill-color);\n",
              "    }\n",
              "    80% {\n",
              "      border-color: transparent;\n",
              "      border-right-color: var(--fill-color);\n",
              "      border-bottom-color: var(--fill-color);\n",
              "    }\n",
              "    90% {\n",
              "      border-color: transparent;\n",
              "      border-bottom-color: var(--fill-color);\n",
              "    }\n",
              "  }\n",
              "</style>\n",
              "\n",
              "      <script>\n",
              "        async function quickchart(key) {\n",
              "          const quickchartButtonEl =\n",
              "            document.querySelector('#' + key + ' button');\n",
              "          quickchartButtonEl.disabled = true;  // To prevent multiple clicks.\n",
              "          quickchartButtonEl.classList.add('colab-df-spinner');\n",
              "          try {\n",
              "            const charts = await google.colab.kernel.invokeFunction(\n",
              "                'suggestCharts', [key], {});\n",
              "          } catch (error) {\n",
              "            console.error('Error during call to suggestCharts:', error);\n",
              "          }\n",
              "          quickchartButtonEl.classList.remove('colab-df-spinner');\n",
              "          quickchartButtonEl.classList.add('colab-df-quickchart-complete');\n",
              "        }\n",
              "        (() => {\n",
              "          let quickchartButtonEl =\n",
              "            document.querySelector('#df-f45aebf2-9e09-4f50-895c-a25ac3749283 button');\n",
              "          quickchartButtonEl.style.display =\n",
              "            google.colab.kernel.accessAllowed ? 'block' : 'none';\n",
              "        })();\n",
              "      </script>\n",
              "    </div>\n",
              "\n",
              "    </div>\n",
              "  </div>\n"
            ],
            "application/vnd.google.colaboratory.intrinsic+json": {
              "type": "dataframe",
              "variable_name": "df",
              "summary": "{\n  \"name\": \"df\",\n  \"rows\": 19006,\n  \"fields\": [\n    {\n      \"column\": \"ts\",\n      \"properties\": {\n        \"dtype\": \"object\",\n        \"num_unique_values\": 17901,\n        \"samples\": [\n          \"2023-12-01T03:41:22Z\",\n          \"2023-06-26T10:05:26Z\",\n          \"2023-07-08T15:23:50Z\"\n        ],\n        \"semantic_type\": \"\",\n        \"description\": \"\"\n      }\n    },\n    {\n      \"column\": \"platform\",\n      \"properties\": {\n        \"dtype\": \"category\",\n        \"num_unique_values\": 4,\n        \"samples\": [\n          \"android\",\n          \"not_applicable\",\n          \"Android OS 10 API 29 (samsung, SM-A207F)\"\n        ],\n        \"semantic_type\": \"\",\n        \"description\": \"\"\n      }\n    },\n    {\n      \"column\": \"ms_played\",\n      \"properties\": {\n        \"dtype\": \"number\",\n        \"std\": 126671,\n        \"min\": 0,\n        \"max\": 3275568,\n        \"num_unique_values\": 10432,\n        \"samples\": [\n          1687879,\n          175099,\n          193837\n        ],\n        \"semantic_type\": \"\",\n        \"description\": \"\"\n      }\n    },\n    {\n      \"column\": \"conn_country\",\n      \"properties\": {\n        \"dtype\": \"category\",\n        \"num_unique_values\": 3,\n        \"samples\": [\n          \"KE\",\n          \"TZ\",\n          \"GB\"\n        ],\n        \"semantic_type\": \"\",\n        \"description\": \"\"\n      }\n    },\n    {\n      \"column\": \"ip_addr\",\n      \"properties\": {\n        \"dtype\": \"category\",\n        \"num_unique_values\": 95,\n        \"samples\": [\n          \"41.212.81.5\",\n          \"41.212.44.23\",\n          \"105.48.177.242\"\n        ],\n        \"semantic_type\": \"\",\n        \"description\": \"\"\n      }\n    },\n    {\n      \"column\": \"master_metadata_track_name\",\n      \"properties\": {\n        \"dtype\": \"category\",\n        \"num_unique_values\": 4419,\n        \"samples\": [\n          \"December Back 2 June\",\n          \"House of Cards (Full Length Edition)\",\n          \"Home For My Heart\"\n        ],\n        \"semantic_type\": \"\",\n        \"description\": \"\"\n      }\n    },\n    {\n      \"column\": \"master_metadata_album_artist_name\",\n      \"properties\": {\n        \"dtype\": \"category\",\n        \"num_unique_values\": 1241,\n        \"samples\": [\n          \"Ciara\",\n          \"Eminem\",\n          \"Bridget Blue\"\n        ],\n        \"semantic_type\": \"\",\n        \"description\": \"\"\n      }\n    },\n    {\n      \"column\": \"master_metadata_album_album_name\",\n      \"properties\": {\n        \"dtype\": \"category\",\n        \"num_unique_values\": 2377,\n        \"samples\": [\n          \"THE BOOK\",\n          \"Present\",\n          \"KEYS II\"\n        ],\n        \"semantic_type\": \"\",\n        \"description\": \"\"\n      }\n    },\n    {\n      \"column\": \"spotify_track_uri\",\n      \"properties\": {\n        \"dtype\": \"category\",\n        \"num_unique_values\": 4870,\n        \"samples\": [\n          \"spotify:track:0kHinOxDGscnJlQ5igupj5\",\n          \"spotify:track:1SBdQujLm2pg30EzL9swm0\",\n          \"spotify:track:6hecXwh6EZHcl6rZyJftKQ\"\n        ],\n        \"semantic_type\": \"\",\n        \"description\": \"\"\n      }\n    },\n    {\n      \"column\": \"episode_name\",\n      \"properties\": {\n        \"dtype\": \"category\",\n        \"num_unique_values\": 73,\n        \"samples\": [\n          \"Buried Alive | Joel Osteen\",\n          \"Detoxing Your Mind | Joel Osteen\",\n          \"Take Your Image Off The Throne | Joel Osteen\"\n        ],\n        \"semantic_type\": \"\",\n        \"description\": \"\"\n      }\n    },\n    {\n      \"column\": \"episode_show_name\",\n      \"properties\": {\n        \"dtype\": \"category\",\n        \"num_unique_values\": 13,\n        \"samples\": [\n          \"Relaxation Sounds\",\n          \"Party Of 1 Podcast\",\n          \"Joel Osteen Podcast\"\n        ],\n        \"semantic_type\": \"\",\n        \"description\": \"\"\n      }\n    },\n    {\n      \"column\": \"spotify_episode_uri\",\n      \"properties\": {\n        \"dtype\": \"category\",\n        \"num_unique_values\": 73,\n        \"samples\": [\n          \"spotify:episode:15lLaGBgUg8r88t3zuW5CA\",\n          \"spotify:episode:0hxZf5HIjMFRhsyGRewDDB\",\n          \"spotify:episode:1etMDIoZaNubU06oq2kkSA\"\n        ],\n        \"semantic_type\": \"\",\n        \"description\": \"\"\n      }\n    },\n    {\n      \"column\": \"reason_start\",\n      \"properties\": {\n        \"dtype\": \"category\",\n        \"num_unique_values\": 8,\n        \"samples\": [\n          \"playbtn\",\n          \"appload\",\n          \"clickrow\"\n        ],\n        \"semantic_type\": \"\",\n        \"description\": \"\"\n      }\n    },\n    {\n      \"column\": \"reason_end\",\n      \"properties\": {\n        \"dtype\": \"category\",\n        \"num_unique_values\": 10,\n        \"samples\": [\n          \"remote\",\n          \"endplay\",\n          \"unexpected-exit\"\n        ],\n        \"semantic_type\": \"\",\n        \"description\": \"\"\n      }\n    },\n    {\n      \"column\": \"shuffle\",\n      \"properties\": {\n        \"dtype\": \"boolean\",\n        \"num_unique_values\": 2,\n        \"samples\": [\n          true,\n          false\n        ],\n        \"semantic_type\": \"\",\n        \"description\": \"\"\n      }\n    },\n    {\n      \"column\": \"skipped\",\n      \"properties\": {\n        \"dtype\": \"boolean\",\n        \"num_unique_values\": 2,\n        \"samples\": [\n          true,\n          false\n        ],\n        \"semantic_type\": \"\",\n        \"description\": \"\"\n      }\n    },\n    {\n      \"column\": \"offline\",\n      \"properties\": {\n        \"dtype\": \"boolean\",\n        \"num_unique_values\": 2,\n        \"samples\": [\n          true,\n          false\n        ],\n        \"semantic_type\": \"\",\n        \"description\": \"\"\n      }\n    },\n    {\n      \"column\": \"offline_timestamp\",\n      \"properties\": {\n        \"dtype\": \"number\",\n        \"std\": 398327636023.3215,\n        \"min\": 1666021578.0,\n        \"max\": 1665770980356.0,\n        \"num_unique_values\": 17042,\n        \"samples\": [\n          1690626378.0,\n          1676911650.0\n        ],\n        \"semantic_type\": \"\",\n        \"description\": \"\"\n      }\n    },\n    {\n      \"column\": \"incognito_mode\",\n      \"properties\": {\n        \"dtype\": \"boolean\",\n        \"num_unique_values\": 1,\n        \"samples\": [\n          false\n        ],\n        \"semantic_type\": \"\",\n        \"description\": \"\"\n      }\n    }\n  ]\n}"
            }
          },
          "metadata": {},
          "execution_count": 4
        }
      ],
      "source": [
        "df = pd.read_json('/content/drive/MyDrive/Datasets/Streaming_History_Audio_2022-2024_0.json', encoding='latin1')\n",
        "df.head(20)"
      ]
    },
    {
      "cell_type": "code",
      "execution_count": 5,
      "id": "b3e50365",
      "metadata": {
        "id": "b3e50365"
      },
      "outputs": [],
      "source": [
        "# Save the data to an excel file\n",
        "#df.to_excel(\"spotify2022.xlsx\", index = False)\n",
        "#print(\"Excel file saved successfully\")"
      ]
    },
    {
      "cell_type": "code",
      "execution_count": 6,
      "id": "70b45acb",
      "metadata": {
        "id": "70b45acb"
      },
      "outputs": [],
      "source": [
        "#import os\n",
        "#print(os.getcwd())"
      ]
    },
    {
      "cell_type": "code",
      "execution_count": 7,
      "id": "7275c70d",
      "metadata": {
        "id": "7275c70d",
        "outputId": "53a49845-20b3-442e-b687-ff9b993896a7",
        "colab": {
          "base_uri": "https://localhost:8080/"
        }
      },
      "outputs": [
        {
          "output_type": "execute_result",
          "data": {
            "text/plain": [
              "19006"
            ]
          },
          "metadata": {},
          "execution_count": 7
        }
      ],
      "source": [
        "# How many rows are there\n",
        "df.shape[0]"
      ]
    },
    {
      "cell_type": "code",
      "execution_count": 8,
      "id": "d1f82b38",
      "metadata": {
        "id": "d1f82b38",
        "outputId": "31115e57-222d-4650-cbfb-01572abdb68c",
        "colab": {
          "base_uri": "https://localhost:8080/",
          "height": 680
        }
      },
      "outputs": [
        {
          "output_type": "execute_result",
          "data": {
            "text/plain": [
              "ts                                       0\n",
              "platform                                 0\n",
              "ms_played                                0\n",
              "conn_country                             0\n",
              "ip_addr                                  0\n",
              "master_metadata_track_name              92\n",
              "master_metadata_album_artist_name       92\n",
              "master_metadata_album_album_name        92\n",
              "spotify_track_uri                       92\n",
              "episode_name                         18914\n",
              "episode_show_name                    18914\n",
              "spotify_episode_uri                  18914\n",
              "reason_start                             0\n",
              "reason_end                               0\n",
              "shuffle                                  0\n",
              "skipped                                  0\n",
              "offline                                  0\n",
              "offline_timestamp                     1810\n",
              "incognito_mode                           0\n",
              "dtype: int64"
            ],
            "text/html": [
              "<div>\n",
              "<style scoped>\n",
              "    .dataframe tbody tr th:only-of-type {\n",
              "        vertical-align: middle;\n",
              "    }\n",
              "\n",
              "    .dataframe tbody tr th {\n",
              "        vertical-align: top;\n",
              "    }\n",
              "\n",
              "    .dataframe thead th {\n",
              "        text-align: right;\n",
              "    }\n",
              "</style>\n",
              "<table border=\"1\" class=\"dataframe\">\n",
              "  <thead>\n",
              "    <tr style=\"text-align: right;\">\n",
              "      <th></th>\n",
              "      <th>0</th>\n",
              "    </tr>\n",
              "  </thead>\n",
              "  <tbody>\n",
              "    <tr>\n",
              "      <th>ts</th>\n",
              "      <td>0</td>\n",
              "    </tr>\n",
              "    <tr>\n",
              "      <th>platform</th>\n",
              "      <td>0</td>\n",
              "    </tr>\n",
              "    <tr>\n",
              "      <th>ms_played</th>\n",
              "      <td>0</td>\n",
              "    </tr>\n",
              "    <tr>\n",
              "      <th>conn_country</th>\n",
              "      <td>0</td>\n",
              "    </tr>\n",
              "    <tr>\n",
              "      <th>ip_addr</th>\n",
              "      <td>0</td>\n",
              "    </tr>\n",
              "    <tr>\n",
              "      <th>master_metadata_track_name</th>\n",
              "      <td>92</td>\n",
              "    </tr>\n",
              "    <tr>\n",
              "      <th>master_metadata_album_artist_name</th>\n",
              "      <td>92</td>\n",
              "    </tr>\n",
              "    <tr>\n",
              "      <th>master_metadata_album_album_name</th>\n",
              "      <td>92</td>\n",
              "    </tr>\n",
              "    <tr>\n",
              "      <th>spotify_track_uri</th>\n",
              "      <td>92</td>\n",
              "    </tr>\n",
              "    <tr>\n",
              "      <th>episode_name</th>\n",
              "      <td>18914</td>\n",
              "    </tr>\n",
              "    <tr>\n",
              "      <th>episode_show_name</th>\n",
              "      <td>18914</td>\n",
              "    </tr>\n",
              "    <tr>\n",
              "      <th>spotify_episode_uri</th>\n",
              "      <td>18914</td>\n",
              "    </tr>\n",
              "    <tr>\n",
              "      <th>reason_start</th>\n",
              "      <td>0</td>\n",
              "    </tr>\n",
              "    <tr>\n",
              "      <th>reason_end</th>\n",
              "      <td>0</td>\n",
              "    </tr>\n",
              "    <tr>\n",
              "      <th>shuffle</th>\n",
              "      <td>0</td>\n",
              "    </tr>\n",
              "    <tr>\n",
              "      <th>skipped</th>\n",
              "      <td>0</td>\n",
              "    </tr>\n",
              "    <tr>\n",
              "      <th>offline</th>\n",
              "      <td>0</td>\n",
              "    </tr>\n",
              "    <tr>\n",
              "      <th>offline_timestamp</th>\n",
              "      <td>1810</td>\n",
              "    </tr>\n",
              "    <tr>\n",
              "      <th>incognito_mode</th>\n",
              "      <td>0</td>\n",
              "    </tr>\n",
              "  </tbody>\n",
              "</table>\n",
              "</div><br><label><b>dtype:</b> int64</label>"
            ]
          },
          "metadata": {},
          "execution_count": 8
        }
      ],
      "source": [
        "total_nan = df.isna().sum()\n",
        "total_nan"
      ]
    },
    {
      "cell_type": "code",
      "source": [
        "#df.shape[\"episode_name\"]\n",
        "#df[df[\"episode_name\"].isna()]\n"
      ],
      "metadata": {
        "id": "xo3qupA8bW2-"
      },
      "id": "xo3qupA8bW2-",
      "execution_count": 9,
      "outputs": []
    },
    {
      "cell_type": "code",
      "execution_count": 9,
      "id": "4f2abda1",
      "metadata": {
        "id": "4f2abda1"
      },
      "outputs": [],
      "source": []
    },
    {
      "cell_type": "markdown",
      "id": "f2f16fe3",
      "metadata": {
        "id": "f2f16fe3"
      },
      "source": [
        "# LISTENING PLATFORM"
      ]
    },
    {
      "cell_type": "code",
      "execution_count": 10,
      "id": "9b13e159",
      "metadata": {
        "id": "9b13e159",
        "outputId": "3679ec81-fc88-47c3-9323-f25b04e64d93",
        "colab": {
          "base_uri": "https://localhost:8080/"
        }
      },
      "outputs": [
        {
          "output_type": "stream",
          "name": "stdout",
          "text": [
            "platform\n",
            "android                                     15951\n",
            "Android OS 10 API 29 (samsung, SM-A207F)     2764\n",
            "windows                                       191\n",
            "not_applicable                                100\n",
            "Name: count, dtype: int64\n"
          ]
        }
      ],
      "source": [
        "listening_platform = df['platform'].value_counts()  #counts how many times each dataset appears\n",
        "\n",
        "# Display\n",
        "print(listening_platform)"
      ]
    },
    {
      "cell_type": "markdown",
      "id": "2d0e7dc8",
      "metadata": {
        "id": "2d0e7dc8"
      },
      "source": [
        "# I listen to spotify on my phone more"
      ]
    },
    {
      "cell_type": "code",
      "execution_count": 10,
      "id": "33577eb7",
      "metadata": {
        "id": "33577eb7"
      },
      "outputs": [],
      "source": []
    },
    {
      "cell_type": "markdown",
      "id": "6efa8cd9",
      "metadata": {
        "id": "6efa8cd9"
      },
      "source": [
        "# COUNTRY"
      ]
    },
    {
      "cell_type": "code",
      "execution_count": 11,
      "id": "bc67ab24",
      "metadata": {
        "id": "bc67ab24",
        "outputId": "dbf15263-328c-4d60-b1c1-2851594ea377",
        "colab": {
          "base_uri": "https://localhost:8080/"
        }
      },
      "outputs": [
        {
          "output_type": "stream",
          "name": "stdout",
          "text": [
            "conn_country\n",
            "KE    18897\n",
            "TZ       98\n",
            "GB       11\n",
            "Name: count, dtype: int64\n"
          ]
        }
      ],
      "source": [
        "listening_country = df['conn_country'].value_counts()\n",
        "\n",
        "# Display\n",
        "print(listening_country)"
      ]
    },
    {
      "cell_type": "markdown",
      "source": [
        "# LISTENING TIME"
      ],
      "metadata": {
        "id": "rwRgtvMHw4wz"
      },
      "id": "rwRgtvMHw4wz"
    },
    {
      "cell_type": "code",
      "execution_count": 12,
      "id": "90eb3f50",
      "metadata": {
        "id": "90eb3f50",
        "outputId": "d9b405ed-acbd-4413-8cac-9633a495c67a",
        "colab": {
          "base_uri": "https://localhost:8080/"
        }
      },
      "outputs": [
        {
          "output_type": "stream",
          "name": "stdout",
          "text": [
            "Year\n",
            "2022    11687.752917\n",
            "2023    24964.655950\n",
            "2024    10337.676317\n",
            "Name: Listening_Time_Minutes, dtype: float64\n"
          ]
        }
      ],
      "source": [
        "# Average listening time in minutes\n",
        "# Convert the timestamp to datetime and extract the year\n",
        "df['Date'] = pd.to_datetime(df['ts'])\n",
        "df['Year'] = df['Date'].dt.year\n",
        "\n",
        "# Calculate average listening time per day for each year\n",
        "df['Listening_Time_Minutes'] = df['ms_played'] / (1000 * 60)  # Convert ms to minutes\n",
        "daily_listening = df.groupby(['Year'])['Listening_Time_Minutes'].sum().reset_index()\n",
        "average_listening_per_year = daily_listening.groupby('Year')['Listening_Time_Minutes'].mean()\n",
        "print(average_listening_per_year)"
      ]
    },
    {
      "cell_type": "code",
      "execution_count": 13,
      "id": "d81fcfde",
      "metadata": {
        "scrolled": true,
        "id": "d81fcfde",
        "outputId": "88ec1480-068d-4966-e7a0-8e3f62ef8b7e",
        "colab": {
          "base_uri": "https://localhost:8080/",
          "height": 472
        }
      },
      "outputs": [
        {
          "output_type": "display_data",
          "data": {
            "text/plain": [
              "<Figure size 640x480 with 1 Axes>"
            ],
            "image/png": "[encoded data removed]"
          },
          "metadata": {}
        }
      ],
      "source": [
        "# Plot for average listening time\n",
        "average_listening_per_year.plot(kind='line', marker='o', color='blue')\n",
        "plt.title('Average Daily Listening Time Per Year (in Minutes)')\n",
        "plt.xlabel('Year')\n",
        "plt.ylabel('Average Listening Time (Minutes)')\n",
        "plt.grid()\n",
        "plt.show()\n"
      ]
    },
    {
      "cell_type": "code",
      "execution_count": 13,
      "id": "8280ded6",
      "metadata": {
        "id": "8280ded6"
      },
      "outputs": [],
      "source": []
    },
    {
      "cell_type": "markdown",
      "source": [
        "# TOP ARTIST IN A MONTH IN THE YEARS 2022-2024"
      ],
      "metadata": {
        "id": "KkNbJC6VTig8"
      },
      "id": "KkNbJC6VTig8"
    },
    {
      "cell_type": "markdown",
      "source": [
        "# 2022"
      ],
      "metadata": {
        "id": "VC71PFd-TvBe"
      },
      "id": "VC71PFd-TvBe"
    },
    {
      "cell_type": "code",
      "execution_count": 14,
      "id": "879feef9",
      "metadata": {
        "id": "879feef9",
        "outputId": "c830f1b1-eed5-4245-e082-290d71ab8d12",
        "colab": {
          "base_uri": "https://localhost:8080/"
        }
      },
      "outputs": [
        {
          "output_type": "stream",
          "name": "stdout",
          "text": [
            "\n",
            "Top 10 Artists for 2022-07:\n",
            "          Artist  ms_played\n",
            "0          Adele   10544588\n",
            "16  Taylor Swift    7541094\n",
            "17    The Weeknd    7143404\n",
            "3     Bruno Mars    5779830\n",
            "6    Don Toliver    4522260\n",
            "12   Post Malone    3819200\n",
            "9      Jenevieve    2421420\n",
            "11   Mark Ronson     269699\n",
            "5       Doja Cat     268765\n",
            "2          B.o.B     268353\n",
            "\n",
            "Top 10 Artists for 2022-08:\n",
            "           Artist  ms_played\n",
            "73        Mahalia   14685694\n",
            "92   Taylor Swift   13301983\n",
            "28     Bruno Mars    9184294\n",
            "25  Ariana Grande    8242270\n",
            "59         Kahu$h    6023149\n",
            "19          Adele    5419418\n",
            "41       Doja Cat    4072725\n",
            "27    Bruno Major    3851323\n",
            "60     Kanye West    3697958\n",
            "23    Alicia Keys    3467164\n",
            "\n",
            "Top 10 Artists for 2022-09:\n",
            "           Artist  ms_played\n",
            "275  Taylor Swift   19819557\n",
            "129    Bruno Mars    9279870\n",
            "155      Doja Cat    8139890\n",
            "132   Call Me Ace    6977790\n",
            "108   Alicia Keys    5312704\n",
            "143   Chris Brown    5094796\n",
            "121      BeyoncÃ©    4969600\n",
            "179  JEONG SEWOON    4936298\n",
            "194        Kahu$h    4319283\n",
            "291          ZAYN    4264149\n",
            "\n",
            "Top 10 Artists for 2022-10:\n",
            "              Artist  ms_played\n",
            "413     Taylor Swift   10077574\n",
            "351     JEONG SEWOON    7443479\n",
            "311       Bruno Mars    6308859\n",
            "303        BLACKPINK    5035408\n",
            "315  Car, the garden    4866042\n",
            "336       Ed Sheeran    4455317\n",
            "349          J. Cole    4398129\n",
            "360            Kassy    4325423\n",
            "357           Kahu$h    4050707\n",
            "358       Kanye West    3776823\n",
            "\n",
            "Top 10 Artists for 2022-11:\n",
            "           Artist  ms_played\n",
            "433     BLACKPINK    5837042\n",
            "457         Drake    4715814\n",
            "498       Mahalia    4524207\n",
            "527    Steve Lacy    2996447\n",
            "455      Doja Cat    2733144\n",
            "520  Selena Gomez    2424653\n",
            "482     Jenevieve    2113760\n",
            "439    Bruno Mars    1963596\n",
            "479  JEONG SEWOON    1276166\n",
            "451  CÃ©line Dion    1086369\n",
            "\n",
            "Top 10 Artists for 2022-12:\n",
            "          Artist  ms_played\n",
            "557    BLACKPINK   19131146\n",
            "742         ZAYN    8858464\n",
            "621         Joji    6987230\n",
            "705    Sauti Sol    6114682\n",
            "558          BTS    5654562\n",
            "645  Little Simz    5372487\n",
            "549   Amber Mark    4372853\n",
            "702          SZA    4308000\n",
            "745         d4vd    3792483\n",
            "728   The Weeknd    3507221\n"
          ]
        }
      ],
      "source": [
        "# TOP ARTIST IN A MONTH IN THE YEAR 2022 FROM JULY\n",
        "# Extract columns\n",
        "df['Date'] = pd.to_datetime(df['ts'])\n",
        "df['Year'] = df['Date'].dt.year\n",
        "df['Date'] = df['Date'].dt.tz_localize(None)  # Removes timezone info\n",
        "df['Month'] = df['Date'].dt.to_period('M')  # Extract year-month\n",
        "df['Artist'] = df['master_metadata_album_artist_name']\n",
        "df['ms_played'] = df['ms_played']\n",
        "\n",
        "# Filter data for the year 2022\n",
        "df_2022 = df[df['Year'] == 2022]\n",
        "\n",
        "# Group by Month and Artist\n",
        "monthly_artist_data_2022 = df_2022.groupby(['Month', 'Artist'])['ms_played'].sum().reset_index()\n",
        "\n",
        "# Sort by Month\n",
        "top_artists_by_month_2022 = monthly_artist_data_2022.sort_values(['Month', 'ms_played'], ascending=[True, False])\n",
        "\n",
        "# Get Top 10 Artists for each month\n",
        "top_10_artists_per_month_2022 = top_artists_by_month_2022.groupby('Month').head(10)\n",
        "\n",
        "# Display the results\n",
        "for month in sorted(top_10_artists_per_month_2022['Month'].unique()):\n",
        "    print(f\"\\nTop 10 Artists for {month}:\")\n",
        "    print(top_10_artists_per_month_2022[top_10_artists_per_month_2022['Month'] == month][['Artist', 'ms_played']])\n"
      ]
    },
    {
      "cell_type": "code",
      "execution_count": 14,
      "id": "0275ad44",
      "metadata": {
        "id": "0275ad44"
      },
      "outputs": [],
      "source": []
    },
    {
      "cell_type": "markdown",
      "source": [
        "# 2023"
      ],
      "metadata": {
        "id": "VHYfuFvqTdxM"
      },
      "id": "VHYfuFvqTdxM"
    },
    {
      "cell_type": "code",
      "execution_count": 15,
      "id": "ae1002fa",
      "metadata": {
        "id": "ae1002fa",
        "outputId": "2a8650c0-71ea-49af-b5c3-4d6e68636106",
        "colab": {
          "base_uri": "https://localhost:8080/"
        }
      },
      "outputs": [
        {
          "output_type": "stream",
          "name": "stdout",
          "text": [
            "\n",
            "Top 10 Artists for 2023-01:\n",
            "           Artist  ms_played\n",
            "57   JEONG SEWOON    5346940\n",
            "114       Rihanna    4774814\n",
            "39          Drake    4046242\n",
            "10            BTS    3578235\n",
            "129    Steve Lacy    3495778\n",
            "135    The Weeknd    3433807\n",
            "9       BLACKPINK    3314148\n",
            "119           SZA    3246548\n",
            "94    Miley Cyrus    3246261\n",
            "103      Omah Lay    3184246\n",
            "\n",
            "Top 10 Artists for 2023-02:\n",
            "            Artist  ms_played\n",
            "165      BLACKPINK   12627367\n",
            "257            SZA    9903100\n",
            "252           Rema    6789965\n",
            "158          Adele    5816207\n",
            "231      Lyn Lapid    5758748\n",
            "256        Ruth B.    5418867\n",
            "174     Bruno Mars    5006784\n",
            "268   Taylor Swift    4845461\n",
            "163  Ariana Grande    4510883\n",
            "212           Joji    3106783\n",
            "\n",
            "Top 10 Artists for 2023-03:\n",
            "           Artist  ms_played\n",
            "422         imase   18287418\n",
            "398           SZA    4953195\n",
            "338          Joji    3959299\n",
            "300          CHAI    3814329\n",
            "390          Rema    3559644\n",
            "339   Jordan Ward    3234159\n",
            "305       Cardi B    3102694\n",
            "368       Mahalia    3019973\n",
            "319      Dua Lipa    2963526\n",
            "411  Taylor Swift    2602845\n",
            "\n",
            "Top 10 Artists for 2023-04:\n",
            "          Artist  ms_played\n",
            "436     BeyoncÃ©    6198322\n",
            "506          SZA    5772143\n",
            "450        Drake    5639291\n",
            "487       Mereba    4951860\n",
            "524        imase    4103135\n",
            "437         CHAI    3998586\n",
            "510  Song Heejin    3735190\n",
            "485         MINO    3686757\n",
            "479  Kiana LedÃ©    3620492\n",
            "431    BLACKPINK    3586181\n",
            "\n",
            "Top 10 Artists for 2023-05:\n",
            "            Artist  ms_played\n",
            "631  Playboi Carti    7186625\n",
            "539            BTS    4889279\n",
            "590    Jack Harlow    4706140\n",
            "634           Rema    4506570\n",
            "639            SZA    4441746\n",
            "653   Taylor Swift    3929293\n",
            "538      BLACKPINK    3293586\n",
            "576         Giveon    3206493\n",
            "629    PURPLE KISS    3155698\n",
            "599  Justin Bieber    3060192\n",
            "\n",
            "Top 10 Artists for 2023-06:\n",
            "            Artist  ms_played\n",
            "808            Sia   10112752\n",
            "737    Jordan Ward    6499079\n",
            "682  Ariana Grande    5279942\n",
            "800            SZA    4902530\n",
            "687      Baby Keem    3122621\n",
            "760          Lizzo    2834906\n",
            "790          RIMON    2520954\n",
            "813     Stray Kids    2496522\n",
            "714     Ed Sheeran    2077839\n",
            "767     Mac Miller    1659101\n",
            "\n",
            "Top 10 Artists for 2023-07:\n",
            "           Artist  ms_played\n",
            "915    Kanye West    9247024\n",
            "996        j-hope    8483418\n",
            "838           2PM    5279762\n",
            "948            RM    5134583\n",
            "978  Travis Scott    4909969\n",
            "947      RADWIMPS    4388072\n",
            "866         Colde    4348549\n",
            "901       J. Cole    4210553\n",
            "910          Joji    4147253\n",
            "964           Sia    3638895\n",
            "\n",
            "Top 10 Artists for 2023-08:\n",
            "              Artist  ms_played\n",
            "1086     Jordan Ward   14248894\n",
            "1011   Ariana Grande   11383583\n",
            "1025      Bruno Mars    8764948\n",
            "1100  Kendrick Lamar    8197373\n",
            "1213          j-hope    8023721\n",
            "1082       Jenevieve    7135968\n",
            "1212           imase    5949195\n",
            "1015             BTS    5813898\n",
            "1185    Taylor Swift    5767977\n",
            "1074             JIN    5406432\n",
            "\n",
            "Top 10 Artists for 2023-09:\n",
            "             Artist  ms_played\n",
            "1329     Stray Kids   18372018\n",
            "1253     Ed Sheeran    7160829\n",
            "1243          Colde    5895612\n",
            "1278     Kanye West    5089820\n",
            "1263        J. Cole    5089714\n",
            "1234      Burna Boy    4925005\n",
            "1334   Taylor Swift    4707996\n",
            "1231            BTS    4623365\n",
            "1226  Ariana Grande    4604642\n",
            "1273    Jordan Ward    4408772\n",
            "\n",
            "Top 10 Artists for 2023-10:\n",
            "              Artist  ms_played\n",
            "1430      Mac Miller    5539923\n",
            "1368             BTS    4726825\n",
            "1372        BeyoncÃ©    4696966\n",
            "1482          j-hope    4553979\n",
            "1459      Stray Kids    4302428\n",
            "1374      Bruno Mars    4261146\n",
            "1398  H_art the Band    3198160\n",
            "1414     Jordan Ward    2144323\n",
            "1379     Chris Kaiga    1980561\n",
            "1385           Drake    1719136\n",
            "\n",
            "Top 10 Artists for 2023-11:\n",
            "             Artist  ms_played\n",
            "1631     Stray Kids   12095016\n",
            "1571     Kanye West    8898886\n",
            "1513     Bruno Mars    6465497\n",
            "1533       Doja Cat    5641247\n",
            "1497  Ariana Grande    5516146\n",
            "1613        Rihanna    5316384\n",
            "1590        Mahalia    5109002\n",
            "1503            BTS    4569597\n",
            "1661         j-hope    4240268\n",
            "1640   Taylor Swift    4229911\n",
            "\n",
            "Top 10 Artists for 2023-12:\n",
            "              Artist  ms_played\n",
            "1682           Asake   25770165\n",
            "1870     Nicki Minaj   16844264\n",
            "1939      Stray Kids   16566972\n",
            "1697        BeyoncÃ©    5458077\n",
            "1892  PinkPantheress    5309509\n",
            "1805       Jung Kook    4818030\n",
            "2007          j-hope    4547112\n",
            "2005           imase    3848864\n",
            "1748      Ed Sheeran    3814990\n",
            "1687             BTS    3028328\n"
          ]
        }
      ],
      "source": [
        "# TOP ARTIST IN A MONTH IN THE YEAR 2023\n",
        "# Extract columns\n",
        "df['Date'] = pd.to_datetime(df['ts'])\n",
        "df['Year'] = df['Date'].dt.year\n",
        "df['Date'] = df['Date'].dt.tz_localize(None)  # Removes timezone info\n",
        "df['Month'] = df['Date'].dt.to_period('M')  # Extract year-month\n",
        "df['Artist'] = df['master_metadata_album_artist_name']\n",
        "df['ms_played'] = df['ms_played']\n",
        "\n",
        "# Filter data for the year 2023\n",
        "df_2023 = df[df['Year'] == 2023]\n",
        "\n",
        "# Group by Month and Artist\n",
        "monthly_artist_data_2023 = df_2023.groupby(['Month', 'Artist'])['ms_played'].sum().reset_index()\n",
        "\n",
        "# Sort by Month\n",
        "top_artists_by_month_2023 = monthly_artist_data_2023.sort_values(['Month', 'ms_played'], ascending=[True, False])\n",
        "\n",
        "# Get Top 10 Artists for each month\n",
        "top_10_artists_per_month_2023 = top_artists_by_month_2023.groupby('Month').head(10)\n",
        "\n",
        "# Display the results\n",
        "for month in sorted(top_10_artists_per_month_2023['Month'].unique()):\n",
        "    print(f\"\\nTop 10 Artists for {month}:\")\n",
        "    print(top_10_artists_per_month_2023[top_10_artists_per_month_2023['Month'] == month][['Artist', 'ms_played']])\n"
      ]
    },
    {
      "cell_type": "code",
      "execution_count": 15,
      "id": "98c78c0d",
      "metadata": {
        "id": "98c78c0d"
      },
      "outputs": [],
      "source": []
    },
    {
      "cell_type": "markdown",
      "source": [
        "# 2024"
      ],
      "metadata": {
        "id": "Gcg7_3MdTzM9"
      },
      "id": "Gcg7_3MdTzM9"
    },
    {
      "cell_type": "code",
      "execution_count": 16,
      "id": "820db77b",
      "metadata": {
        "id": "820db77b",
        "outputId": "03b40807-7717-4f33-c19e-67bf5fe9cc83",
        "colab": {
          "base_uri": "https://localhost:8080/"
        }
      },
      "outputs": [
        {
          "output_type": "stream",
          "name": "stdout",
          "text": [
            "\n",
            "Top 10 Artists for 2024-01:\n",
            "             Artist  ms_played\n",
            "124      Stray Kids   16620396\n",
            "12            Asake   14650756\n",
            "106   Playboi Carti   11837328\n",
            "25       Bruno Mars    5222901\n",
            "6             Adele    4530635\n",
            "70        Jung Kook    4394288\n",
            "54   H_art the Band    4235395\n",
            "17              BTS    4048746\n",
            "46       Ed Sheeran    4041425\n",
            "24         BeyoncÃ©    3741702\n",
            "\n",
            "Top 10 Artists for 2024-02:\n",
            "            Artist  ms_played\n",
            "229          Drake   17780808\n",
            "354     Stray Kids   12164323\n",
            "181          Asake   11931156\n",
            "200     Bruno Mars    9486412\n",
            "331  Playboi Carti    7758844\n",
            "283     Kanye West    7286127\n",
            "353     Steve Lacy    6843702\n",
            "367   Travis Scott    6224367\n",
            "337           Rema    5708197\n",
            "186      BLACKPINK    5321645\n",
            "\n",
            "Top 10 Artists for 2024-03:\n",
            "                Artist  ms_played\n",
            "534           RADWIMPS    6582589\n",
            "421         Bruno Mars    6375043\n",
            "407              Asake    5699242\n",
            "553         Stray Kids    5590208\n",
            "456             Future    5213755\n",
            "413          Baby Keem    5105476\n",
            "487         Kanye West    5084331\n",
            "449  Elevation Worship    4360829\n",
            "537               Rema    3745349\n",
            "406      Ariana Grande    3729795\n",
            "\n",
            "Top 10 Artists for 2024-04:\n",
            "            Artist  ms_played\n",
            "619          Drake   23759493\n",
            "713   Travis Scott   15675688\n",
            "597  Ariana Grande   14802353\n",
            "590      21 Savage    7891119\n",
            "714           Tyla    5160914\n",
            "722         j-hope    4935849\n",
            "652    KAYTRAMINÃ    4854834\n",
            "691            SZA    4789641\n",
            "636  Israel Mbonyi    4551926\n",
            "600            BTS    4059364\n",
            "\n",
            "Top 10 Artists for 2024-05:\n",
            "              Artist  ms_played\n",
            "732         RADWIMPS     361500\n",
            "728     Han Hee Jung     272280\n",
            "727            Colde     221000\n",
            "733        ê¹íê²¸     211706\n",
            "726  Car, the garden     170275\n",
            "731      Park Eunbin       3886\n",
            "729  Jung Seung Hwan        994\n",
            "730        Lee Mujin        870\n"
          ]
        }
      ],
      "source": [
        "# TOP ARTIST IN A MONTH IN THE YEAR 2024\n",
        "# Extract columns\n",
        "df['Date'] = pd.to_datetime(df['ts'])\n",
        "df['Year'] = df['Date'].dt.year\n",
        "df['Date'] = df['Date'].dt.tz_localize(None)  # Removes timezone info\n",
        "df['Month'] = df['Date'].dt.to_period('M')  # Extract year-month\n",
        "df['Artist'] = df['master_metadata_album_artist_name']\n",
        "df['ms_played'] = df['ms_played']\n",
        "\n",
        "# Filter data for the year 2022\n",
        "df_2024 = df[df['Year'] == 2024]\n",
        "\n",
        "# Group by Month and Artist\n",
        "monthly_artist_data_2024 = df_2024.groupby(['Month', 'Artist'])['ms_played'].sum().reset_index()\n",
        "\n",
        "# Sort by Month\n",
        "top_artists_by_month_2024 = monthly_artist_data_2024.sort_values(['Month', 'ms_played'], ascending=[True, False])\n",
        "\n",
        "# Get Top 10 Artists for each month\n",
        "top_10_artists_per_month_2024 = top_artists_by_month_2024.groupby('Month').head(10)\n",
        "\n",
        "# Display the results\n",
        "for month in sorted(top_10_artists_per_month_2024['Month'].unique()):\n",
        "    print(f\"\\nTop 10 Artists for {month}:\")\n",
        "    print(top_10_artists_per_month_2024[top_10_artists_per_month_2024['Month'] == month][['Artist', 'ms_played']])\n"
      ]
    },
    {
      "cell_type": "code",
      "execution_count": 16,
      "id": "ef09b71d",
      "metadata": {
        "id": "ef09b71d"
      },
      "outputs": [],
      "source": []
    },
    {
      "cell_type": "markdown",
      "source": [
        "# SKIPPED TRACKS"
      ],
      "metadata": {
        "id": "kHMicaUiT2zA"
      },
      "id": "kHMicaUiT2zA"
    },
    {
      "cell_type": "code",
      "execution_count": 17,
      "id": "b1292648",
      "metadata": {
        "id": "b1292648",
        "outputId": "ca600837-e9f6-4ca2-84fe-ccf72f4fbcec",
        "colab": {
          "base_uri": "https://localhost:8080/"
        }
      },
      "outputs": [
        {
          "output_type": "stream",
          "name": "stdout",
          "text": [
            "Most Skipped Tracks:\n",
            "master_metadata_track_name\n",
            "Dandelions                                                              36\n",
            "This Life                                                               25\n",
            "All Too Well (10 Minute Version) (Taylor's Version) (From The Vault)    24\n",
            "GIFT - Eng Ver.                                                         24\n",
            "Star Drawing                                                            23\n",
            "Dynamite                                                                22\n",
            "Star                                                                    22\n",
            "Just Watching You                                                       21\n",
            "Bad Habit                                                               21\n",
            "Shelter (Feat. OFA)                                                     21\n",
            "Romantic Sunday                                                         20\n",
            "Stay                                                                    20\n",
            "Here With Me                                                            19\n",
            "Stay With Me                                                            19\n",
            "S-Class                                                                 19\n",
            "Shinunoga E-Wa                                                          18\n",
            "Yeah Yeah Yeah                                                          18\n",
            "Okay Dokey                                                              18\n",
            "My Mind & Me                                                            17\n",
            "That's Ordinary Love                                                    17\n",
            "Breeze                                                                  16\n",
            "The Astronaut                                                           16\n",
            "Tally                                                                   16\n",
            "Love wins all                                                           16\n",
            "I Believe                                                               16\n",
            "do u really? (with Ruth B.)                                             15\n",
            "BLUE CHECK (Feat. Jay Park, Jessi) (Prod. by Slom)                      15\n",
            "Youtiful                                                                15\n",
            "Suzume                                                                  15\n",
            "That That (prod.&feat. SUGA of BTS)                                     15\n",
            "Like Crazy                                                              15\n",
            "Calm Down (with Selena Gomez)                                           14\n",
            "Iâ²m Sorry                                                             14\n",
            "í­ì (HANGSANG)                                                       14\n",
            "Die For You                                                             13\n",
            "DICE                                                                    13\n",
            "My Only One                                                             13\n",
            "Pink Venom                                                              13\n",
            "Holiday                                                                 13\n",
            "ON                                                                      13\n",
            "Run BTS                                                                 13\n",
            "Ready For Love                                                          13\n",
            "What's Up My G                                                          13\n",
            "U Hoo Hoo                                                               13\n",
            "NIGHT DANCER                                                            12\n",
            "Low                                                                     12\n",
            "Left and Right (Feat. Jung Kook of BTS)                                 12\n",
            "Hall of Fame                                                            12\n",
            "Home                                                                    12\n",
            "Dream                                                                   12\n",
            "dtype: int64\n"
          ]
        }
      ],
      "source": [
        "# Skipped tracks\n",
        "skipped_tracks = df[df['skipped'] == True].groupby('master_metadata_track_name').size().sort_values(ascending=False).head(50)\n",
        "print(\"Most Skipped Tracks:\")\n",
        "print(skipped_tracks)\n"
      ]
    },
    {
      "cell_type": "code",
      "execution_count": 17,
      "id": "dc7060c5",
      "metadata": {
        "id": "dc7060c5"
      },
      "outputs": [],
      "source": []
    },
    {
      "cell_type": "markdown",
      "source": [
        "# SHUFFLE ANALYSIS"
      ],
      "metadata": {
        "id": "tDEXKRv8T6rF"
      },
      "id": "tDEXKRv8T6rF"
    },
    {
      "cell_type": "code",
      "execution_count": 18,
      "id": "90203870",
      "metadata": {
        "id": "90203870",
        "outputId": "0c36a7d9-0877-479d-d5ec-fd74a150a4bb",
        "colab": {
          "base_uri": "https://localhost:8080/"
        }
      },
      "outputs": [
        {
          "output_type": "stream",
          "name": "stdout",
          "text": [
            "Listening Time: Shuffle vs Non-Shuffle:\n",
            "shuffle\n",
            "False    2273340187\n",
            "True      546064924\n",
            "Name: ms_played, dtype: int64\n"
          ]
        }
      ],
      "source": [
        "# Shuffle mode analysis\n",
        "shuffle_analysis = df.groupby('shuffle')['ms_played'].sum()\n",
        "print(\"Listening Time: Shuffle vs Non-Shuffle:\")\n",
        "print(shuffle_analysis)"
      ]
    },
    {
      "cell_type": "code",
      "execution_count": 18,
      "id": "90fc1a7c",
      "metadata": {
        "id": "90fc1a7c"
      },
      "outputs": [],
      "source": []
    },
    {
      "cell_type": "markdown",
      "source": [
        "# TOTAL LISTENING TIME PER YEAR"
      ],
      "metadata": {
        "id": "zvnpQVHPT_F5"
      },
      "id": "zvnpQVHPT_F5"
    },
    {
      "cell_type": "code",
      "execution_count": 19,
      "id": "5d9ff4b6",
      "metadata": {
        "id": "5d9ff4b6",
        "outputId": "6a30c927-0bf8-4461-da59-1a76e76cc90f",
        "colab": {
          "base_uri": "https://localhost:8080/"
        }
      },
      "outputs": [
        {
          "output_type": "stream",
          "name": "stdout",
          "text": [
            "Year\n",
            "2022    194.795882\n",
            "2023    416.077599\n",
            "2024    172.294605\n",
            "Name: ms_played, dtype: float64\n"
          ]
        }
      ],
      "source": [
        "#Total listening time per year\n",
        "#Convert timestamp to date and time and extract the year\n",
        "df['Date'] = pd.to_datetime(df['ts'])\n",
        "\n",
        "#Aggregate total listening time per yaer\n",
        "total_time_per_year = df.groupby('Year')['ms_played'].sum() / (1000 * 60 * 60)\n",
        "\n",
        "#Results\n",
        "print(total_time_per_year)"
      ]
    },
    {
      "cell_type": "code",
      "execution_count": 20,
      "id": "345a0968",
      "metadata": {
        "id": "345a0968",
        "outputId": "d0813d37-5830-4c52-ab15-e73b448806a4",
        "colab": {
          "base_uri": "https://localhost:8080/",
          "height": 508
        }
      },
      "outputs": [
        {
          "output_type": "display_data",
          "data": {
            "text/plain": [
              "<Figure size 800x500 with 1 Axes>"
            ],
            "image/png": "[encoded data removed]"
          },
          "metadata": {}
        }
      ],
      "source": [
        "#visualize\n",
        "total_time_per_year.plot(kind = 'bar', color = 'blue', figsize = (8, 5))\n",
        "plt.title('Total listening (in Hours) per year')\n",
        "plt.xlabel('Year')\n",
        "plt.ylabel('Listening Time in (Hours)')\n",
        "plt.show()"
      ]
    },
    {
      "cell_type": "markdown",
      "id": "420f3880",
      "metadata": {
        "id": "420f3880"
      },
      "source": [
        "# 2023 had the highest listening of hours with 416.08"
      ]
    },
    {
      "cell_type": "code",
      "execution_count": 20,
      "id": "e4839629",
      "metadata": {
        "id": "e4839629"
      },
      "outputs": [],
      "source": []
    },
    {
      "cell_type": "markdown",
      "source": [
        "# ALBUMS WITH THE HIGHEST LISTENING"
      ],
      "metadata": {
        "id": "PaEL54JyUIku"
      },
      "id": "PaEL54JyUIku"
    },
    {
      "cell_type": "code",
      "execution_count": 21,
      "id": "ce26773b",
      "metadata": {
        "id": "ce26773b",
        "outputId": "60f72b5b-0539-4b21-d81a-107e8db682d9",
        "colab": {
          "base_uri": "https://localhost:8080/"
        }
      },
      "outputs": [
        {
          "output_type": "stream",
          "name": "stdout",
          "text": [
            "master_metadata_album_album_name\n",
            "5-STAR                                                      1016.180950\n",
            "Lover                                                        935.626417\n",
            "BORN PINK                                                    903.111150\n",
            "Her Loss                                                     835.479517\n",
            "SOS                                                          791.767050\n",
            "Work Of Art                                                  776.314333\n",
            "POP CUBE                                                     579.895283\n",
            "UTOPIA                                                       525.604000\n",
            "An Evening With Silk Sonic                                   509.539250\n",
            "FORWARD                                                      501.958633\n",
            "RENAISSANCE                                                  426.823200\n",
            "Division                                                     399.407683\n",
            "Planet Her                                                   398.267483\n",
            "SMITHEREENS                                                  393.433083\n",
            "Alchemy of Souls, Pt. 3 (Original Television Soundtrack)     374.712650\n",
            "25                                                           360.454383\n",
            "Unorthodox Jukebox                                           351.052483\n",
            "Gemini Rights                                                320.483350\n",
            "Nobody Is Listening                                          313.471967\n",
            "Proof                                                        301.664517\n",
            "Name: ms_played, dtype: float64\n"
          ]
        }
      ],
      "source": [
        "# Albums with the highest listening\n",
        "# Filter out rows with missing album names\n",
        "df_with_albums = df.dropna(subset=['master_metadata_album_album_name'])\n",
        "\n",
        "# Group by album and sum listening time\n",
        "album_insights = df_with_albums.groupby('master_metadata_album_album_name')['ms_played'].sum().sort_values(ascending=False).head(20)\n",
        "\n",
        "# Convert ms to minutes and display\n",
        "print(album_insights / (1000 * 60))  # Convert ms to minutes\n"
      ]
    },
    {
      "cell_type": "code",
      "execution_count": 21,
      "id": "23bcfe7a",
      "metadata": {
        "id": "23bcfe7a"
      },
      "outputs": [],
      "source": []
    },
    {
      "cell_type": "code",
      "execution_count": 21,
      "id": "2bc90f14",
      "metadata": {
        "id": "2bc90f14"
      },
      "outputs": [],
      "source": []
    },
    {
      "cell_type": "markdown",
      "id": "46b0f6ca",
      "metadata": {
        "id": "46b0f6ca"
      },
      "source": [
        "# PODCASTS IN EACH YEAR"
      ]
    },
    {
      "cell_type": "code",
      "execution_count": 22,
      "id": "3701e834",
      "metadata": {
        "id": "3701e834",
        "outputId": "7c9c9dbd-fdf5-47e3-ca01-79461db3a2ab",
        "colab": {
          "base_uri": "https://localhost:8080/"
        }
      },
      "outputs": [
        {
          "output_type": "stream",
          "name": "stdout",
          "text": [
            "episode_name\n",
            "Getting Up So God Can Bring You Out | Joel Osteen                                                                  55.850583\n",
            "God Is Your Source | Joel Osteen                                                                                   55.847183\n",
            "Let's discuss our failures!                                                                                        54.653167\n",
            "An Expected End | Joel Osteen                                                                                      53.262150\n",
            "Lisa Bilyeu ON: Train Your Confidence like a Muscle & Use These Simple Daily Habits to Succeed in Any Situation    47.351333\n",
            "I took a mindfulness classâhere's what I learned                                                                 31.076033\n",
            "Seizing Your God-Given Opportunities | Joel Osteen                                                                 29.562850\n",
            "Awaken Your Great FaithÂ | Joel Osteen                                                                             29.311300\n",
            "Staying Full of Hope | Joel Osteen                                                                                 29.025067\n",
            "The Power of Letting GoÂ | Joel Osteen                                                                             28.921733\n",
            "Living in the Past or Yearning for the Future? Be Present.                                                         28.694633\n",
            "God Will Bring You To A Flourishing Finish | Joel Osteen                                                           28.511533\n",
            "The Promise Is In You | Joel Osteen                                                                                28.510633\n",
            "Make Plans To Succeed | Joel Osteen                                                                                28.507917\n",
            "The True You | Joel Osteen                                                                                         28.472583\n",
            "Don't Be Defined By Your Mistakes | Joel Osteen                                                                    28.443633\n",
            "Separated For The Better | Joel Osteen                                                                             28.414300\n",
            "Don't Settle For Good Enough | Joel Osteen                                                                         28.310267\n",
            "Comfortable With Who You Are | Joel Osteen                                                                         28.131317\n",
            "Reverse The Order | Joel Osteen                                                                                    28.017333\n",
            "Name: ms_played, dtype: float64\n"
          ]
        }
      ],
      "source": [
        "# Podcasts in all years\n",
        "\n",
        "# drop Nan rows\n",
        "podcast_data = df.dropna(subset=['episode_name'])\n",
        "\n",
        "# Groupby episode and listening time\n",
        "podcast_insights = podcast_data.groupby('episode_name')['ms_played'].sum().sort_values(ascending = False).head(20)\n",
        "\n",
        "# Convert to minutes\n",
        "podcast_insights_in_min = podcast_insights / (1000 * 60)\n",
        "\n",
        "# Display\n",
        "print(podcast_insights_in_min)"
      ]
    },
    {
      "cell_type": "code",
      "execution_count": 22,
      "id": "0cdaa53c",
      "metadata": {
        "id": "0cdaa53c"
      },
      "outputs": [],
      "source": []
    },
    {
      "cell_type": "markdown",
      "source": [
        "# PODCAST 2022"
      ],
      "metadata": {
        "id": "as-EDbKvUUHr"
      },
      "id": "as-EDbKvUUHr"
    },
    {
      "cell_type": "code",
      "execution_count": 23,
      "id": "ebb43805",
      "metadata": {
        "id": "ebb43805",
        "outputId": "088d4884-1a2c-467c-8e39-442416f29b1e",
        "colab": {
          "base_uri": "https://localhost:8080/"
        }
      },
      "outputs": [
        {
          "output_type": "stream",
          "name": "stdout",
          "text": [
            "episode_name\n",
            "Getting Up So God Can Bring You Out | Joel Osteen                                                                  55.850583\n",
            "God Is Your Source | Joel Osteen                                                                                   55.847183\n",
            "An Expected End | Joel Osteen                                                                                      53.262150\n",
            "Lisa Bilyeu ON: Train Your Confidence like a Muscle & Use These Simple Daily Habits to Succeed in Any Situation    47.351333\n",
            "Seizing Your God-Given Opportunities | Joel Osteen                                                                 29.562850\n",
            "Awaken Your Great FaithÂ | Joel Osteen                                                                             29.311300\n",
            "The Power of Letting GoÂ | Joel Osteen                                                                             28.921733\n",
            "God Will Bring You To A Flourishing Finish | Joel Osteen                                                           28.511533\n",
            "The Promise Is In You | Joel Osteen                                                                                28.510633\n",
            "The True You | Joel Osteen                                                                                         28.472583\n",
            "Don't Be Defined By Your Mistakes | Joel Osteen                                                                    28.443633\n",
            "Separated For The Better | Joel Osteen                                                                             28.414300\n",
            "Comfortable With Who You Are | Joel Osteen                                                                         28.131317\n",
            "Reverse The Order | Joel Osteen                                                                                    28.017333\n",
            "The Best Is Next | Joel Osteen                                                                                     28.016417\n",
            "Buried Alive | Joel Osteen                                                                                         27.896150\n",
            "Taking Care Of Yourself | Joel Osteen                                                                              27.836233\n",
            "Treat Every Person Like A Gatekeeper | Joel Osteen                                                                 27.747333\n",
            "You Are God's Masterpiece | Joel Osteen                                                                            27.716567\n",
            "The Fight For Your Future | Joel Osteen                                                                            27.645167\n",
            "Change Your Name | Joel Osteen                                                                                     27.566833\n",
            "The King Is Looking For You | Joel Osteen                                                                          27.263333\n",
            "Keep Strife Out Of Your Life | Joel Osteen                                                                         27.242067\n",
            "Defining Moments | Joel Osteen                                                                                     27.079333\n",
            "Tongue Trouble | Joel Osteen                                                                                       26.963683\n",
            "Stepping into your next season? Making the tough decision + Stop being a passenger princess in your own life       26.923433\n",
            "Power of the Word - Part 1                                                                                         26.653767\n",
            "Rise, Slay, Eat                                                                                                    26.140000\n",
            "Meditating On What God Says | Joel Osteen                                                                          25.880767\n",
            "Playing Catch Up With Your Dream                                                                                   25.592983\n",
            "Maisie Williams: The Painful Past Of A Game Of Thrones Star                                                        18.729333\n",
            "Don't Be A Complainer | Victoria Osteen                                                                            15.535333\n",
            "Let The S-O-N Shine On YouÂ | Victoria Osteen                                                                      14.263233\n",
            "Renew Your Mind | Victoria Osteen                                                                                  13.720000\n",
            "God's Wisdom | Victoria Osteen                                                                                     13.692267\n",
            "A Great Leader Is A Great Servant | Victoria Osteen                                                                12.237333\n",
            "Guard Your Heart: Start Thinking Overcoming Thoughts | Victoria Osteen                                             11.479967\n",
            "Develop Self-Control To Rise Higher With God | Victoria Osteen                                                     11.307700\n",
            "Build People Up With Your Words | Victoria Osteen                                                                  10.813667\n",
            "Who's The Boss? | Joel Osteen                                                                                       8.256667\n",
            "Take Your Image Off The Throne | Joel Osteen                                                                        1.643133\n",
            "Stronger Than You Think | Joel Osteen                                                                               1.429600\n",
            "Freedom In The Fire | Joel Osteen                                                                                   1.287617\n",
            "Your Wings Are Coming | Joel Osteen                                                                                 1.244500\n",
            "Unexpected Sunshine | Joel Osteen                                                                                   1.232433\n",
            "Improving Your Relationships | Joel Osteen                                                                          0.973333\n",
            "#380: 7 lessons from building a modern TUI framework                                                                0.133283\n",
            "Be Comfortable Not Knowing | Joel Osteen                                                                            0.000000\n",
            "Name: ms_played, dtype: float64\n"
          ]
        }
      ],
      "source": [
        "# Top podacast for 2022\n",
        "# Convert the timestamp to datetime and extract the year\n",
        "df['Date'] = pd.to_datetime(df['ts'])\n",
        "df['Year'] = df['Date'].dt.year\n",
        "\n",
        "# Filter for 2022 and episodes (podcasts)\n",
        "podcast_data_2022 = df[(df['Year'] == 2022) & df['episode_name'].notna()]\n",
        "\n",
        "# Group by episode name and sum the listening time\n",
        "podcast_insights_2022 = podcast_data_2022.groupby('episode_name')['ms_played'].sum().sort_values(ascending=False)\n",
        "\n",
        "# Convert to minutes\n",
        "podcast_insights_2022_in_min = podcast_insights_2022 / (1000 * 60)\n",
        "\n",
        "# Display\n",
        "print(podcast_insights_2022_in_min)\n"
      ]
    },
    {
      "cell_type": "code",
      "execution_count": 23,
      "id": "72dcf7f7",
      "metadata": {
        "id": "72dcf7f7"
      },
      "outputs": [],
      "source": []
    },
    {
      "cell_type": "markdown",
      "source": [
        "# 2023"
      ],
      "metadata": {
        "id": "Ga3BKwefUXib"
      },
      "id": "Ga3BKwefUXib"
    },
    {
      "cell_type": "code",
      "execution_count": 24,
      "id": "0b8446b8",
      "metadata": {
        "id": "0b8446b8",
        "outputId": "bdde185a-507c-4135-dcfa-481b200b65ae",
        "colab": {
          "base_uri": "https://localhost:8080/"
        }
      },
      "outputs": [
        {
          "output_type": "stream",
          "name": "stdout",
          "text": [
            "episode_name\n",
            "Let's discuss our failures!                                                                            54.653167\n",
            "Staying Full of Hope | Joel Osteen                                                                     29.025067\n",
            "Living in the Past or Yearning for the Future? Be Present.                                             28.694633\n",
            "Make Plans To Succeed | Joel Osteen                                                                    28.507917\n",
            "Don't Settle For Good Enough | Joel Osteen                                                             28.310267\n",
            "Don't Rely On PeopleÂ | Joel Osteen                                                                    27.287933\n",
            "Detoxing Your Mind | Joel Osteen                                                                       27.187100\n",
            "Be Delusional and Do It Scared                                                                         26.146700\n",
            "5 Ways To Build Your Confidence                                                                        24.135167\n",
            "Advice For Your 20s+                                                                                   19.880917\n",
            "You're Worth It But You're Convinced You're Not                                                        16.302700\n",
            "Following your passion with Nikita Kering                                                              11.307700\n",
            "Walk In Your Fatherâs Shoes | Victoria Osteen                                                        10.449483\n",
            "20 Minutes Of The Best Meditation Music To Help You Focus                                               1.707917\n",
            "Elevate Mind and Spirit: Binaural Brain Waves for Vibrations, Stress Reduction, & Focus                 1.143100\n",
            "Happy New Year ð                                                                                     0.701550\n",
            "Dealing With Life's Challenges                                                                          0.384233\n",
            "Honest (sped up) - Baby Keem                                                                            0.281717\n",
            "Make A Plan For The Day, Don't Get Overwhelmed                                                          0.244000\n",
            "A VIRTUAL HUG! EVERYTHING YOU NEEDED TO HEAR TODAYâ¦'You have not yet lived all you happiest days'     0.200000\n",
            "Name: ms_played, dtype: float64\n"
          ]
        }
      ],
      "source": [
        "# Top podcast for 2023\n",
        "# Convert the timestamp to datetime and extract the year\n",
        "df['Date'] = pd.to_datetime(df['ts'])\n",
        "df['Year'] = df['Date'].dt.year\n",
        "\n",
        "# Filter for 2023 and episodes (podcasts)\n",
        "podcast_data_2023 = df[(df['Year'] == 2023) & df['episode_name'].notna()]\n",
        "\n",
        "# Group by episode name and sum the listening time\n",
        "podcast_insights_2023 = podcast_data_2023.groupby('episode_name')['ms_played'].sum().sort_values(ascending=False)\n",
        "\n",
        "# Convert to minutes\n",
        "podcast_insights_2023_in_min = podcast_insights_2023 / (1000 * 60)\n",
        "\n",
        "# Display\n",
        "print(podcast_insights_2023_in_min)"
      ]
    },
    {
      "cell_type": "code",
      "execution_count": 24,
      "id": "e85eb21f",
      "metadata": {
        "id": "e85eb21f"
      },
      "outputs": [],
      "source": []
    },
    {
      "cell_type": "markdown",
      "source": [
        "# 2024"
      ],
      "metadata": {
        "id": "FZU2DtadUZr3"
      },
      "id": "FZU2DtadUZr3"
    },
    {
      "cell_type": "code",
      "execution_count": 25,
      "id": "83715bd6",
      "metadata": {
        "id": "83715bd6",
        "outputId": "5284d67e-92ab-4c48-d9cd-f7765c1304a0",
        "colab": {
          "base_uri": "https://localhost:8080/"
        }
      },
      "outputs": [
        {
          "output_type": "stream",
          "name": "stdout",
          "text": [
            "episode_name\n",
            "I took a mindfulness classâhere's what I learned                                                          31.076033\n",
            "conquering your inner critic, breaking up with external validation & reinventing yourself ft. bella kaye    27.870550\n",
            "100 lessons about life, relationships, success, wellness, and self-love [EPISODE #100]                      27.504017\n",
            "5  traits that will instantly make you MAGNETIC                                                              6.807217\n",
            "triggers = opportunities for growth                                                                          2.658150\n",
            "Name: ms_played, dtype: float64\n"
          ]
        }
      ],
      "source": [
        "# Top podacast for 2024\n",
        "# Convert the timestamp to datetime and extract the year\n",
        "df['Date'] = pd.to_datetime(df['ts'])\n",
        "df['Year'] = df['Date'].dt.year\n",
        "\n",
        "# Filter for 2024 and episodes (podcasts)\n",
        "podcast_data_2024 = df[(df['Year'] == 2024) & df['episode_name'].notna()]\n",
        "\n",
        "# Group by episode name and sum the listening time\n",
        "podcast_insights_2024 = podcast_data_2024.groupby('episode_name')['ms_played'].sum().sort_values(ascending=False)\n",
        "\n",
        "# Convert to minutes\n",
        "podcast_insights_2024_in_min = podcast_insights_2024 / (1000 * 60)\n",
        "\n",
        "# Display\n",
        "print(podcast_insights_2024_in_min)"
      ]
    },
    {
      "cell_type": "code",
      "execution_count": 25,
      "id": "0a78bdee",
      "metadata": {
        "id": "0a78bdee"
      },
      "outputs": [],
      "source": []
    },
    {
      "cell_type": "markdown",
      "id": "1518d2de",
      "metadata": {
        "id": "1518d2de"
      },
      "source": [
        "# REASONS A SONG STARTED"
      ]
    },
    {
      "cell_type": "code",
      "execution_count": 26,
      "id": "bb3b2103",
      "metadata": {
        "id": "bb3b2103",
        "outputId": "60a0c51d-a91c-4774-c2ca-77745d081610",
        "colab": {
          "base_uri": "https://localhost:8080/"
        }
      },
      "outputs": [
        {
          "output_type": "stream",
          "name": "stdout",
          "text": [
            "reason_start\n",
            "trackdone     11887\n",
            "clickrow       4253\n",
            "fwdbtn         2057\n",
            "appload         320\n",
            "backbtn         292\n",
            "playbtn         148\n",
            "trackerror       29\n",
            "remote           20\n",
            "Name: count, dtype: int64\n"
          ]
        }
      ],
      "source": [
        "reason_start_counts = df['reason_start'].value_counts()\n",
        "\n",
        "# Display\n",
        "print(reason_start_counts)"
      ]
    },
    {
      "cell_type": "code",
      "execution_count": 26,
      "id": "e9570d3f",
      "metadata": {
        "id": "e9570d3f"
      },
      "outputs": [],
      "source": []
    },
    {
      "cell_type": "markdown",
      "id": "09679c98",
      "metadata": {
        "id": "09679c98"
      },
      "source": [
        "# OFFLINE / ONLINE (TRUE or FALSE)"
      ]
    },
    {
      "cell_type": "code",
      "execution_count": 27,
      "id": "987e0a54",
      "metadata": {
        "id": "987e0a54",
        "outputId": "046bb187-08ed-46e4-f415-33d056a071c1",
        "colab": {
          "base_uri": "https://localhost:8080/"
        }
      },
      "outputs": [
        {
          "output_type": "stream",
          "name": "stdout",
          "text": [
            "Online plays: 12488\n",
            "Offline plays: 6518\n"
          ]
        }
      ],
      "source": [
        "offline_counts = df['offline'].value_counts()\n",
        "\n",
        "# Display\n",
        "print(f\"Online plays: {offline_counts.get(False, 0)}\")\n",
        "print(f\"Offline plays: {offline_counts.get(True, 0)}\")"
      ]
    },
    {
      "cell_type": "markdown",
      "id": "d2926cf5",
      "metadata": {
        "id": "d2926cf5"
      },
      "source": [
        "# So i play songs online than offline"
      ]
    },
    {
      "cell_type": "code",
      "execution_count": 28,
      "id": "b2e78199",
      "metadata": {
        "id": "b2e78199",
        "outputId": "ede20b6d-2fbc-4a2c-8349-54762a2eeca3",
        "colab": {
          "base_uri": "https://localhost:8080/",
          "height": 428
        }
      },
      "outputs": [
        {
          "output_type": "display_data",
          "data": {
            "text/plain": [
              "<Figure size 640x480 with 1 Axes>"
            ],
            "image/png": "[encoded data removed]"
          },
          "metadata": {}
        }
      ],
      "source": [
        "import matplotlib.pyplot as plt\n",
        "\n",
        "labels = ['Online', 'Offline']\n",
        "sizes = [offline_counts.get(False, 0), offline_counts.get(True, 0)]\n",
        "colors = ['skyblue', 'orange']\n",
        "\n",
        "plt.pie(sizes, labels=labels, autopct='%1.1f%%', startangle=90, colors=colors)\n",
        "plt.title('Online vs Offline Plays')\n",
        "plt.show()\n"
      ]
    },
    {
      "cell_type": "code",
      "execution_count": 28,
      "id": "1e126a67",
      "metadata": {
        "id": "1e126a67"
      },
      "outputs": [],
      "source": []
    },
    {
      "cell_type": "markdown",
      "source": [
        "# PLAYTIME BY HOUR AND DAY OF THE WEEK"
      ],
      "metadata": {
        "id": "vvBmdgTJ6k-W"
      },
      "id": "vvBmdgTJ6k-W"
    },
    {
      "cell_type": "code",
      "execution_count": 29,
      "id": "b4c7a7a3",
      "metadata": {
        "id": "b4c7a7a3",
        "outputId": "3c424ec3-cbf4-4573-c4be-b2a5d51dcac9",
        "colab": {
          "base_uri": "https://localhost:8080/",
          "height": 700
        }
      },
      "outputs": [
        {
          "output_type": "display_data",
          "data": {
            "text/plain": [
              "<Figure size 1600x800 with 2 Axes>"
            ],
            "image/png": "[encoded data removed]"
          },
          "metadata": {}
        }
      ],
      "source": [
        "# Playtime by hour and day of the week\n",
        "# Assuming 'df' is your cleaned DataFrame with a 'ts' column in datetime format\n",
        "# Convert 'ts' column to datetime if it's not already in the correct format\n",
        "df['ts'] = pd.to_datetime(df['ts'], errors='coerce')\n",
        "\n",
        "# Add new columns for hour and day of the week\n",
        "df['hour'] = df['ts'].dt.hour\n",
        "df['day_of_week'] = df['ts'].dt.day_name()\n",
        "\n",
        "# Aggregate playtime by hour and day of the week\n",
        "heatmap_data = df.pivot_table(\n",
        "    index='day_of_week', columns='hour', values='ms_played', aggfunc='sum', fill_value=0\n",
        ")\n",
        "\n",
        "# Reorder the days of the week for better readability\n",
        "days_order = ['Monday', 'Tuesday', 'Wednesday', 'Thursday', 'Friday', 'Saturday', 'Sunday']\n",
        "heatmap_data = heatmap_data.reindex(days_order)\n",
        "\n",
        "# Create the heatmap\n",
        "plt.figure(figsize=(16, 8))\n",
        "sns.heatmap(heatmap_data, cmap='YlGnBu', linewidths=0.5, annot=False, fmt=\".0f\")\n",
        "\n",
        "# Add titles and labels\n",
        "plt.title(\"Listening Behavior: Playtime by Hour and Day of the Week\", fontsize=16)\n",
        "plt.xlabel(\"Hour of the Day\", fontsize=12)\n",
        "plt.ylabel(\"Day of the Week\", fontsize=12)\n",
        "plt.tight_layout()\n",
        "\n",
        "# Display the heatmap\n",
        "plt.show()\n"
      ]
    },
    {
      "cell_type": "code",
      "execution_count": 29,
      "id": "107e48a0",
      "metadata": {
        "id": "107e48a0"
      },
      "outputs": [],
      "source": []
    },
    {
      "cell_type": "markdown",
      "source": [
        "# LISTENING STREAK"
      ],
      "metadata": {
        "id": "qt-GHTdA4PsW"
      },
      "id": "qt-GHTdA4PsW"
    },
    {
      "cell_type": "code",
      "execution_count": 30,
      "id": "23ba4a42",
      "metadata": {
        "id": "23ba4a42",
        "outputId": "ee0846c4-db62-45a8-f5f6-9bbaa1384c38",
        "colab": {
          "base_uri": "https://localhost:8080/"
        }
      },
      "outputs": [
        {
          "output_type": "stream",
          "name": "stdout",
          "text": [
            "Longest Listening Streak: 218.13 minutes\n",
            "Details of the longest streak:\n",
            "                           ts  \\\n",
            "744 2022-08-21 04:45:42+00:00   \n",
            "743 2022-08-21 04:45:42+00:00   \n",
            "742 2022-08-21 04:45:42+00:00   \n",
            "740 2022-08-21 04:45:42+00:00   \n",
            "739 2022-08-21 04:45:42+00:00   \n",
            "..                        ...   \n",
            "715 2022-08-21 04:45:42+00:00   \n",
            "727 2022-08-21 04:45:42+00:00   \n",
            "714 2022-08-21 04:45:42+00:00   \n",
            "713 2022-08-21 04:45:42+00:00   \n",
            "718 2022-08-21 04:45:42+00:00   \n",
            "\n",
            "                          master_metadata_track_name  ms_played  \n",
            "744                                         Daylight     260446  \n",
            "743                      pushin P (feat. Young Thug)     136266  \n",
            "742                                      No Sympathy     187413  \n",
            "740                              When I Was Your Man     213826  \n",
            "739  Roadside (+234 Remix) [feat. Rema & Ayra Starr]     198705  \n",
            "..                                               ...        ...  \n",
            "715                                        Good Days     279204  \n",
            "727                                 Against All Odds     201506  \n",
            "714                                         I Hate U     154476  \n",
            "713                                        As It Was     167303  \n",
            "718                 Come Through (feat. Chris Brown)     214093  \n",
            "\n",
            "[69 rows x 3 columns]\n"
          ]
        }
      ],
      "source": [
        "# This is a single-session streak, meaning you played songs back-to-back without long breaks.\n",
        "# Ensure the data is sorted by timestamp\n",
        "df = df.sort_values(by='ts')\n",
        "\n",
        "# Calculate the time difference (in seconds) between consecutive plays\n",
        "df['time_diff'] = df['ts'].diff().dt.total_seconds()\n",
        "\n",
        "# Define a threshold for uninterrupted listening (e.g., 5 minutes = 300 seconds)\n",
        "streak_threshold = 300\n",
        "\n",
        "# Create a 'streak_id' column to group uninterrupted sessions\n",
        "df['streak_id'] = (df['time_diff'] > streak_threshold).cumsum()\n",
        "\n",
        "# Calculate the total playtime for each streak\n",
        "streaks = df.groupby('streak_id')['ms_played'].sum()\n",
        "\n",
        "# Convert playtime to minutes for readability\n",
        "streaks_minutes = streaks / (1000 * 60)\n",
        "\n",
        "# Find the longest listening streak\n",
        "longest_streak_id = streaks.idxmax()\n",
        "longest_streak_minutes = streaks_minutes[longest_streak_id]\n",
        "\n",
        "# Extract details of the longest streak\n",
        "longest_streak_details = df[df['streak_id'] == longest_streak_id]\n",
        "\n",
        "# Display the results\n",
        "print(f\"Longest Listening Streak: {longest_streak_minutes:.2f} minutes\")\n",
        "print(\"Details of the longest streak:\")\n",
        "print(longest_streak_details[['ts', 'master_metadata_track_name', 'ms_played']])\n"
      ]
    },
    {
      "cell_type": "code",
      "execution_count": 30,
      "id": "cdc02451",
      "metadata": {
        "id": "cdc02451"
      },
      "outputs": [],
      "source": []
    },
    {
      "cell_type": "markdown",
      "source": [
        "# INACTIVE LISTENING PERIODS BY DAY OF WEEK"
      ],
      "metadata": {
        "id": "oQDJGUNg4GR1"
      },
      "id": "oQDJGUNg4GR1"
    },
    {
      "cell_type": "code",
      "source": [
        "# Ensure the data is sorted by timestamp\n",
        "df = df.sort_values(by='ts')\n",
        "\n",
        "# Calculate the time difference between consecutive plays\n",
        "df['time_diff'] = df['ts'].diff().dt.total_seconds()\n",
        "\n",
        "# Define a threshold for inactivity (e.g., 1 day = 86400 seconds)\n",
        "inactivity_threshold = 86400  # 1 day\n",
        "\n",
        "# Identify periods of inactivity\n",
        "inactive_periods = df[df['time_diff'] > inactivity_threshold].copy()\n",
        "\n",
        "# Extract start and end dates for each inactive period\n",
        "inactive_periods.loc[:, 'start_date'] = inactive_periods['ts'] - pd.to_timedelta(inactive_periods['time_diff'], unit='s')\n",
        "inactive_periods.loc[:, 'end_date'] = inactive_periods['ts']\n",
        "\n",
        "# Convert inactivity to days\n",
        "inactive_periods.loc[:, 'inactive_days'] = inactive_periods['time_diff'] / (60 * 60 * 24)\n",
        "\n",
        "# Extract the day of the week for when inactivity started\n",
        "inactive_periods.loc[:, 'inactive_day'] = inactive_periods['start_date'].dt.day_name()\n",
        "\n",
        "# Display results\n",
        "print(f\"Total inactive periods: {len(inactive_periods)}\")\n",
        "print(inactive_periods[['start_date', 'end_date', 'inactive_day', 'inactive_days']])\n",
        "\n",
        "# 🔹 Visualizing Inactivity by Day of the Week\n",
        "plt.figure(figsize=(10, 6))\n",
        "sns.countplot(y=inactive_periods['inactive_day'], order=['Monday', 'Tuesday', 'Wednesday', 'Thursday', 'Friday', 'Saturday', 'Sunday'], palette=\"coolwarm\")\n",
        "plt.xlabel(\"Frequency\")\n",
        "plt.ylabel(\"Day of the Week\")\n",
        "plt.title(\"Inactive Listening Periods by Day of the Week\")\n",
        "plt.show()\n"
      ],
      "metadata": {
        "colab": {
          "base_uri": "https://localhost:8080/",
          "height": 1000
        },
        "id": "U4GUagnh5Vjq",
        "outputId": "4b9e707c-9dfc-4374-a05e-1823b52d22a7"
      },
      "id": "U4GUagnh5Vjq",
      "execution_count": 31,
      "outputs": [
        {
          "output_type": "stream",
          "name": "stdout",
          "text": [
            "Total inactive periods: 138\n",
            "                     start_date                  end_date inactive_day  \\\n",
            "442   2022-08-03 07:12:16+00:00 2022-08-05 18:20:54+00:00    Wednesday   \n",
            "447   2022-08-05 18:33:45+00:00 2022-08-07 15:54:56+00:00       Friday   \n",
            "564   2022-08-10 09:09:24+00:00 2022-08-11 10:37:22+00:00    Wednesday   \n",
            "668   2022-08-14 21:10:34+00:00 2022-08-17 15:38:04+00:00       Sunday   \n",
            "700   2022-08-17 16:44:29+00:00 2022-08-21 04:45:42+00:00    Wednesday   \n",
            "...                         ...                       ...          ...   \n",
            "18403 2024-04-09 17:29:58+00:00 2024-04-11 01:09:08+00:00      Tuesday   \n",
            "18490 2024-04-12 16:51:56+00:00 2024-04-15 16:02:18+00:00       Friday   \n",
            "18698 2024-04-18 17:58:37+00:00 2024-04-21 17:53:39+00:00     Thursday   \n",
            "18872 2024-04-24 10:03:07+00:00 2024-04-27 08:29:14+00:00    Wednesday   \n",
            "18892 2024-04-27 09:19:11+00:00 2024-04-29 16:23:16+00:00     Saturday   \n",
            "\n",
            "       inactive_days  \n",
            "442         2.464329  \n",
            "447         1.889711  \n",
            "564         1.061088  \n",
            "668         2.769097  \n",
            "700         3.500845  \n",
            "...              ...  \n",
            "18403       1.318866  \n",
            "18490       2.965532  \n",
            "18698       2.996551  \n",
            "18872       2.934803  \n",
            "18892       2.294502  \n",
            "\n",
            "[138 rows x 4 columns]\n"
          ]
        },
        {
          "output_type": "stream",
          "name": "stderr",
          "text": [
            "<ipython-input-31-19843872e264>:29: FutureWarning: \n",
            "\n",
            "Passing `palette` without assigning `hue` is deprecated and will be removed in v0.14.0. Assign the `y` variable to `hue` and set `legend=False` for the same effect.\n",
            "\n",
            "  sns.countplot(y=inactive_periods['inactive_day'], order=['Monday', 'Tuesday', 'Wednesday', 'Thursday', 'Friday', 'Saturday', 'Sunday'], palette=\"coolwarm\")\n"
          ]
        },
        {
          "output_type": "display_data",
          "data": {
            "text/plain": [
              "<Figure size 1000x600 with 1 Axes>"
            ],
            "image/png": "[encoded data removed]"
          },
          "metadata": {}
        }
      ]
    },
    {
      "cell_type": "markdown",
      "source": [
        "# LISTENING BEHAVIOUR BY TIME OF DAY"
      ],
      "metadata": {
        "id": "Y4u27A3C5WTQ"
      },
      "id": "Y4u27A3C5WTQ"
    },
    {
      "cell_type": "code",
      "execution_count": 32,
      "id": "b730eec4",
      "metadata": {
        "id": "b730eec4",
        "outputId": "41e10b75-dafc-4148-84fb-3ede47b6b3db",
        "colab": {
          "base_uri": "https://localhost:8080/",
          "height": 594
        }
      },
      "outputs": [
        {
          "output_type": "stream",
          "name": "stderr",
          "text": [
            "<ipython-input-32-0bec93a59047>:25: FutureWarning: \n",
            "\n",
            "Passing `palette` without assigning `hue` is deprecated and will be removed in v0.14.0. Assign the `x` variable to `hue` and set `legend=False` for the same effect.\n",
            "\n",
            "  sns.barplot(x=time_playtime.index, y=time_playtime.values, palette=\"coolwarm\")\n"
          ]
        },
        {
          "output_type": "display_data",
          "data": {
            "text/plain": [
              "<Figure size 800x500 with 1 Axes>"
            ],
            "image/png": "[encoded data removed]"
          },
          "metadata": {}
        }
      ],
      "source": [
        "# Convert timestamp column to datetime\n",
        "df['ts'] = pd.to_datetime(df['ts'])\n",
        "\n",
        "# Extract hour from timestamp\n",
        "df['hour'] = df['ts'].dt.hour\n",
        "\n",
        "# Categorize time of day\n",
        "def categorize_time(hour):\n",
        "    if 5 <= hour < 12:\n",
        "        return \"Morning\"\n",
        "    elif 12 <= hour < 17:\n",
        "        return \"Afternoon\"\n",
        "    elif 17 <= hour < 21:\n",
        "        return \"Evening\"\n",
        "    else:\n",
        "        return \"Late Night\"\n",
        "\n",
        "df['time_of_day'] = df['hour'].apply(categorize_time)\n",
        "\n",
        "# Aggregate playtime by time of day\n",
        "time_playtime = df.groupby('time_of_day')['ms_played'].sum().sort_values()\n",
        "\n",
        "# Plot listening behavior across time of day\n",
        "plt.figure(figsize=(8, 5))\n",
        "sns.barplot(x=time_playtime.index, y=time_playtime.values, palette=\"coolwarm\")\n",
        "plt.xlabel(\"Time of Day\")\n",
        "plt.ylabel(\"Total Listening Time (ms)\")\n",
        "plt.title(\"Listening Behavior by Time of Day\")\n",
        "plt.show()\n"
      ]
    },
    {
      "cell_type": "code",
      "execution_count": 32,
      "id": "7276da1d",
      "metadata": {
        "id": "7276da1d"
      },
      "outputs": [],
      "source": []
    },
    {
      "cell_type": "markdown",
      "source": [
        "# MOST REPLAYED SONGS BY TIME OF DAY"
      ],
      "metadata": {
        "id": "K9BfICmV5kiT"
      },
      "id": "K9BfICmV5kiT"
    },
    {
      "cell_type": "code",
      "execution_count": 33,
      "id": "54b335c9",
      "metadata": {
        "id": "54b335c9",
        "colab": {
          "base_uri": "https://localhost:8080/",
          "height": 752
        },
        "outputId": "40ba9a33-a5db-4b5c-af53-2edbcf61f4b7"
      },
      "outputs": [
        {
          "output_type": "stream",
          "name": "stderr",
          "text": [
            "<ipython-input-33-7e6ee479d934>:21: DeprecationWarning: DataFrameGroupBy.apply operated on the grouping columns. This behavior is deprecated, and in a future version of pandas the grouping columns will be excluded from the operation. Either pass `include_groups=False` to exclude the groupings or explicitly select the grouping columns after groupby to silence this warning.\n",
            "  top_replays = song_replays.groupby('time_of_day').apply(lambda x: x.nlargest(5, 'play_count')).reset_index(drop=True)\n",
            "/usr/local/lib/python3.11/dist-packages/IPython/core/pylabtools.py:151: UserWarning: Glyph 128 (\\x80) missing from font(s) DejaVu Sans.\n",
            "  fig.canvas.print_figure(bytes_io, **kw)\n",
            "/usr/local/lib/python3.11/dist-packages/IPython/core/pylabtools.py:151: UserWarning: Glyph 149 (\\x95) missing from font(s) DejaVu Sans.\n",
            "  fig.canvas.print_figure(bytes_io, **kw)\n",
            "/usr/local/lib/python3.11/dist-packages/IPython/core/pylabtools.py:151: UserWarning: Glyph 131 (\\x83) missing from font(s) DejaVu Sans.\n",
            "  fig.canvas.print_figure(bytes_io, **kw)\n",
            "/usr/local/lib/python3.11/dist-packages/IPython/core/pylabtools.py:151: UserWarning: Glyph 129 (\\x81) missing from font(s) DejaVu Sans.\n",
            "  fig.canvas.print_figure(bytes_io, **kw)\n"
          ]
        },
        {
          "output_type": "display_data",
          "data": {
            "text/plain": [
              "<Figure size 1000x600 with 1 Axes>"
            ],
            "image/png": "[encoded data removed]"
          },
          "metadata": {}
        }
      ],
      "source": [
        "# Convert timestamp column to datetime\n",
        "df['ts'] = pd.to_datetime(df['ts'])\n",
        "\n",
        "# Extract hour from timestamp & categorize time of day\n",
        "def categorize_time(hour):\n",
        "    if 5 <= hour < 12:\n",
        "        return \"Morning\"\n",
        "    elif 12 <= hour < 17:\n",
        "        return \"Afternoon\"\n",
        "    elif 17 <= hour < 21:\n",
        "        return \"Evening\"\n",
        "    else:\n",
        "        return \"Late Night\"\n",
        "\n",
        "df['time_of_day'] = df['ts'].dt.hour.apply(categorize_time)\n",
        "\n",
        "# Count how often each song is played in each time period\n",
        "song_replays = df.groupby(['time_of_day', 'master_metadata_track_name']).size().reset_index(name='play_count')\n",
        "\n",
        "# Get the most replayed songs per time period\n",
        "top_replays = song_replays.groupby('time_of_day').apply(lambda x: x.nlargest(5, 'play_count')).reset_index(drop=True)\n",
        "\n",
        "# 🔹 Visualization: Top Replayed Songs by Time of Day\n",
        "plt.figure(figsize=(10, 6))\n",
        "sns.barplot(data=top_replays, x='time_of_day', y='play_count', hue='master_metadata_track_name', palette=\"muted\")\n",
        "plt.xlabel(\"Time of Day\")\n",
        "plt.ylabel(\"Replay Count\")\n",
        "plt.title(\"Most Replayed Songs by Time of Day\")\n",
        "plt.legend(title=\"Song\", bbox_to_anchor=(1, 1))\n",
        "plt.show()\n"
      ]
    },
    {
      "cell_type": "code",
      "source": [],
      "metadata": {
        "id": "50vC__jB5vsZ"
      },
      "id": "50vC__jB5vsZ",
      "execution_count": 33,
      "outputs": []
    },
    {
      "cell_type": "markdown",
      "source": [
        "# NEW SONGS VS PLAYED OVER TIME"
      ],
      "metadata": {
        "id": "XRz6ptjW5wKL"
      },
      "id": "XRz6ptjW5wKL"
    },
    {
      "cell_type": "code",
      "source": [
        "# Convert timestamp column to datetime and extract year-month\n",
        "df['ts'] = pd.to_datetime(df['ts'])\n",
        "df['year_month'] = df['ts'].dt.to_period('M')\n",
        "\n",
        "# Count total unique songs played per month\n",
        "unique_songs_per_month = df.groupby('year_month')['master_metadata_track_name'].nunique().reset_index()\n",
        "unique_songs_per_month.rename(columns={'master_metadata_track_name': 'unique_songs'}, inplace=True)\n",
        "\n",
        "# Count total songs played per month (includes repeats)\n",
        "total_songs_per_month = df.groupby('year_month')['master_metadata_track_name'].count().reset_index()\n",
        "total_songs_per_month.rename(columns={'master_metadata_track_name': 'total_songs'}, inplace=True)\n",
        "\n",
        "# Merge the two datasets\n",
        "song_trends = unique_songs_per_month.merge(total_songs_per_month, on='year_month')\n",
        "\n",
        "# Calculate the percentage of new song discoveries\n",
        "song_trends['replay_ratio'] = (1 - (song_trends['unique_songs'] / song_trends['total_songs'])) * 100\n",
        "\n",
        "# 🔹 Plot: Unique vs. Total Songs Played Over Time\n",
        "plt.figure(figsize=(12, 6))\n",
        "sns.lineplot(x=song_trends['year_month'].astype(str), y=song_trends['unique_songs'], marker='o', label=\"Unique Songs\")\n",
        "sns.lineplot(x=song_trends['year_month'].astype(str), y=song_trends['total_songs'], marker='o', label=\"Total Songs\")\n",
        "plt.xticks(rotation=45)\n",
        "plt.xlabel(\"Month\")\n",
        "plt.ylabel(\"Number of Songs\")\n",
        "plt.title(\"New Song Discoveries vs. Total Songs Played Over Time\")\n",
        "plt.legend()\n",
        "plt.grid()\n",
        "plt.show()\n",
        "\n",
        "# 🔹 Plot: Replay Ratio Over Time\n",
        "plt.figure(figsize=(12, 6))\n",
        "sns.lineplot(x=song_trends['year_month'].astype(str), y=song_trends['replay_ratio'], marker='o', color='red')\n",
        "plt.xticks(rotation=45)\n",
        "plt.xlabel(\"Month\")\n",
        "plt.ylabel(\"Replay Percentage (%)\")\n",
        "plt.title(\"Replay Ratio Over Time (Higher % Means More Replays)\")\n",
        "plt.grid()\n",
        "plt.show()\n"
      ],
      "metadata": {
        "colab": {
          "base_uri": "https://localhost:8080/",
          "height": 1000
        },
        "id": "Lt6YZKRGl57l",
        "outputId": "cee6d4bd-b1b9-4a0c-87a0-c306469d8fa7"
      },
      "id": "Lt6YZKRGl57l",
      "execution_count": 34,
      "outputs": [
        {
          "output_type": "stream",
          "name": "stderr",
          "text": [
            "<ipython-input-34-ad8a2c06fa84>:3: UserWarning: Converting to PeriodArray/Index representation will drop timezone information.\n",
            "  df['year_month'] = df['ts'].dt.to_period('M')\n"
          ]
        },
        {
          "output_type": "display_data",
          "data": {
            "text/plain": [
              "<Figure size 1200x600 with 1 Axes>"
            ],
            "image/png": "[encoded data removed]"
          },
          "metadata": {}
        },
        {
          "output_type": "display_data",
          "data": {
            "text/plain": [
              "<Figure size 1200x600 with 1 Axes>"
            ],
            "image/png": "[encoded data removed]"
          },
          "metadata": {}
        }
      ]
    }
  ],
  "metadata": {
    "kernelspec": {
      "display_name": "Python 3 (ipykernel)",
      "language": "python",
      "name": "python3"
    },
    "language_info": {
      "codemirror_mode": {
        "name": "ipython",
        "version": 3
      },
      "file_extension": ".py",
      "mimetype": "text/x-python",
      "name": "python",
      "nbconvert_exporter": "python",
      "pygments_lexer": "ipython3",
      "version": "3.11.5"
    },
    "colab": {
      "provenance": []
    }
  },
  "nbformat": 4,
  "nbformat_minor": 5
}